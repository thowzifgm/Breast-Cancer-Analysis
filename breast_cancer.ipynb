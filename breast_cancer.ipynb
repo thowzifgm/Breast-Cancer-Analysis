{
  "cells": [
    {
      "cell_type": "markdown",
      "id": "86d3af75",
      "metadata": {
        "id": "86d3af75"
      },
      "source": [
        "# **Breast Cancer Data Set**\n",
        "## BAN210 - Final Assessment (Individual)\n",
        "#### Name: **Abdullah Thowzif Hameed**\n",
        "#### Student ID: **119169217**"
      ]
    },
    {
      "cell_type": "markdown",
      "id": "985c9f8a",
      "metadata": {
        "id": "985c9f8a"
      },
      "source": [
        "**Loading Dependencies**"
      ]
    },
    {
      "cell_type": "code",
      "execution_count": 1064,
      "id": "cd0522b7",
      "metadata": {
        "id": "cd0522b7"
      },
      "outputs": [],
      "source": [
        "import pandas as pd\n",
        "import pylab as pl\n",
        "import numpy as np\n",
        "import scipy.optimize as opt\n",
        "from sklearn import preprocessing\n",
        "%matplotlib inline \n",
        "import matplotlib.pyplot as plt\n",
        "\n",
        "from mlxtend.plotting import plot_confusion_matrix\n",
        "from sklearn.model_selection import cross_val_score\n",
        "from sklearn.model_selection import KFold \n",
        "from sklearn.linear_model import LogisticRegression\n",
        "from sklearn.metrics import accuracy_score\n",
        "from sklearn.metrics import classification_report"
      ]
    },
    {
      "cell_type": "markdown",
      "id": "4e8501f2",
      "metadata": {
        "id": "4e8501f2"
      },
      "source": [
        "**Loading Dataset**"
      ]
    },
    {
      "cell_type": "code",
      "execution_count": 1061,
      "id": "ffb6c48a",
      "metadata": {
        "id": "ffb6c48a",
        "outputId": "c4530761-fe36-4b5e-c86f-fd8ce81c6479",
        "colab": {
          "base_uri": "https://localhost:8080/",
          "height": 224
        }
      },
      "outputs": [
        {
          "output_type": "stream",
          "name": "stdout",
          "text": [
            "Drive already mounted at /content/gdrive; to attempt to forcibly remount, call drive.mount(\"/content/gdrive\", force_remount=True).\n"
          ]
        },
        {
          "output_type": "execute_result",
          "data": {
            "text/plain": [
              "                  class    age menopause tumor-size inv-nodes node-caps  \\\n",
              "0  no-recurrence-events  30-39   premeno      30-34       0-2        no   \n",
              "1  no-recurrence-events  40-49   premeno      20-24       0-2        no   \n",
              "2  no-recurrence-events  40-49   premeno      20-24       0-2        no   \n",
              "3  no-recurrence-events  60-69      ge40      15-19       0-2        no   \n",
              "4  no-recurrence-events  40-49   premeno        0-4       0-2        no   \n",
              "\n",
              "   deg-malig breast breast-quad irradiat  \n",
              "0          3   left    left_low       no  \n",
              "1          2  right    right_up       no  \n",
              "2          2   left    left_low       no  \n",
              "3          2  right     left_up       no  \n",
              "4          2  right   right_low       no  "
            ],
            "text/html": [
              "\n",
              "  <div id=\"df-dc65cc0e-1c67-464a-af86-4ca7af7159ca\">\n",
              "    <div class=\"colab-df-container\">\n",
              "      <div>\n",
              "<style scoped>\n",
              "    .dataframe tbody tr th:only-of-type {\n",
              "        vertical-align: middle;\n",
              "    }\n",
              "\n",
              "    .dataframe tbody tr th {\n",
              "        vertical-align: top;\n",
              "    }\n",
              "\n",
              "    .dataframe thead th {\n",
              "        text-align: right;\n",
              "    }\n",
              "</style>\n",
              "<table border=\"1\" class=\"dataframe\">\n",
              "  <thead>\n",
              "    <tr style=\"text-align: right;\">\n",
              "      <th></th>\n",
              "      <th>class</th>\n",
              "      <th>age</th>\n",
              "      <th>menopause</th>\n",
              "      <th>tumor-size</th>\n",
              "      <th>inv-nodes</th>\n",
              "      <th>node-caps</th>\n",
              "      <th>deg-malig</th>\n",
              "      <th>breast</th>\n",
              "      <th>breast-quad</th>\n",
              "      <th>irradiat</th>\n",
              "    </tr>\n",
              "  </thead>\n",
              "  <tbody>\n",
              "    <tr>\n",
              "      <th>0</th>\n",
              "      <td>no-recurrence-events</td>\n",
              "      <td>30-39</td>\n",
              "      <td>premeno</td>\n",
              "      <td>30-34</td>\n",
              "      <td>0-2</td>\n",
              "      <td>no</td>\n",
              "      <td>3</td>\n",
              "      <td>left</td>\n",
              "      <td>left_low</td>\n",
              "      <td>no</td>\n",
              "    </tr>\n",
              "    <tr>\n",
              "      <th>1</th>\n",
              "      <td>no-recurrence-events</td>\n",
              "      <td>40-49</td>\n",
              "      <td>premeno</td>\n",
              "      <td>20-24</td>\n",
              "      <td>0-2</td>\n",
              "      <td>no</td>\n",
              "      <td>2</td>\n",
              "      <td>right</td>\n",
              "      <td>right_up</td>\n",
              "      <td>no</td>\n",
              "    </tr>\n",
              "    <tr>\n",
              "      <th>2</th>\n",
              "      <td>no-recurrence-events</td>\n",
              "      <td>40-49</td>\n",
              "      <td>premeno</td>\n",
              "      <td>20-24</td>\n",
              "      <td>0-2</td>\n",
              "      <td>no</td>\n",
              "      <td>2</td>\n",
              "      <td>left</td>\n",
              "      <td>left_low</td>\n",
              "      <td>no</td>\n",
              "    </tr>\n",
              "    <tr>\n",
              "      <th>3</th>\n",
              "      <td>no-recurrence-events</td>\n",
              "      <td>60-69</td>\n",
              "      <td>ge40</td>\n",
              "      <td>15-19</td>\n",
              "      <td>0-2</td>\n",
              "      <td>no</td>\n",
              "      <td>2</td>\n",
              "      <td>right</td>\n",
              "      <td>left_up</td>\n",
              "      <td>no</td>\n",
              "    </tr>\n",
              "    <tr>\n",
              "      <th>4</th>\n",
              "      <td>no-recurrence-events</td>\n",
              "      <td>40-49</td>\n",
              "      <td>premeno</td>\n",
              "      <td>0-4</td>\n",
              "      <td>0-2</td>\n",
              "      <td>no</td>\n",
              "      <td>2</td>\n",
              "      <td>right</td>\n",
              "      <td>right_low</td>\n",
              "      <td>no</td>\n",
              "    </tr>\n",
              "  </tbody>\n",
              "</table>\n",
              "</div>\n",
              "      <button class=\"colab-df-convert\" onclick=\"convertToInteractive('df-dc65cc0e-1c67-464a-af86-4ca7af7159ca')\"\n",
              "              title=\"Convert this dataframe to an interactive table.\"\n",
              "              style=\"display:none;\">\n",
              "        \n",
              "  <svg xmlns=\"http://www.w3.org/2000/svg\" height=\"24px\"viewBox=\"0 0 24 24\"\n",
              "       width=\"24px\">\n",
              "    <path d=\"M0 0h24v24H0V0z\" fill=\"none\"/>\n",
              "    <path d=\"M18.56 5.44l.94 2.06.94-2.06 2.06-.94-2.06-.94-.94-2.06-.94 2.06-2.06.94zm-11 1L8.5 8.5l.94-2.06 2.06-.94-2.06-.94L8.5 2.5l-.94 2.06-2.06.94zm10 10l.94 2.06.94-2.06 2.06-.94-2.06-.94-.94-2.06-.94 2.06-2.06.94z\"/><path d=\"M17.41 7.96l-1.37-1.37c-.4-.4-.92-.59-1.43-.59-.52 0-1.04.2-1.43.59L10.3 9.45l-7.72 7.72c-.78.78-.78 2.05 0 2.83L4 21.41c.39.39.9.59 1.41.59.51 0 1.02-.2 1.41-.59l7.78-7.78 2.81-2.81c.8-.78.8-2.07 0-2.86zM5.41 20L4 18.59l7.72-7.72 1.47 1.35L5.41 20z\"/>\n",
              "  </svg>\n",
              "      </button>\n",
              "      \n",
              "  <style>\n",
              "    .colab-df-container {\n",
              "      display:flex;\n",
              "      flex-wrap:wrap;\n",
              "      gap: 12px;\n",
              "    }\n",
              "\n",
              "    .colab-df-convert {\n",
              "      background-color: #E8F0FE;\n",
              "      border: none;\n",
              "      border-radius: 50%;\n",
              "      cursor: pointer;\n",
              "      display: none;\n",
              "      fill: #1967D2;\n",
              "      height: 32px;\n",
              "      padding: 0 0 0 0;\n",
              "      width: 32px;\n",
              "    }\n",
              "\n",
              "    .colab-df-convert:hover {\n",
              "      background-color: #E2EBFA;\n",
              "      box-shadow: 0px 1px 2px rgba(60, 64, 67, 0.3), 0px 1px 3px 1px rgba(60, 64, 67, 0.15);\n",
              "      fill: #174EA6;\n",
              "    }\n",
              "\n",
              "    [theme=dark] .colab-df-convert {\n",
              "      background-color: #3B4455;\n",
              "      fill: #D2E3FC;\n",
              "    }\n",
              "\n",
              "    [theme=dark] .colab-df-convert:hover {\n",
              "      background-color: #434B5C;\n",
              "      box-shadow: 0px 1px 3px 1px rgba(0, 0, 0, 0.15);\n",
              "      filter: drop-shadow(0px 1px 2px rgba(0, 0, 0, 0.3));\n",
              "      fill: #FFFFFF;\n",
              "    }\n",
              "  </style>\n",
              "\n",
              "      <script>\n",
              "        const buttonEl =\n",
              "          document.querySelector('#df-dc65cc0e-1c67-464a-af86-4ca7af7159ca button.colab-df-convert');\n",
              "        buttonEl.style.display =\n",
              "          google.colab.kernel.accessAllowed ? 'block' : 'none';\n",
              "\n",
              "        async function convertToInteractive(key) {\n",
              "          const element = document.querySelector('#df-dc65cc0e-1c67-464a-af86-4ca7af7159ca');\n",
              "          const dataTable =\n",
              "            await google.colab.kernel.invokeFunction('convertToInteractive',\n",
              "                                                     [key], {});\n",
              "          if (!dataTable) return;\n",
              "\n",
              "          const docLinkHtml = 'Like what you see? Visit the ' +\n",
              "            '<a target=\"_blank\" href=https://colab.research.google.com/notebooks/data_table.ipynb>data table notebook</a>'\n",
              "            + ' to learn more about interactive tables.';\n",
              "          element.innerHTML = '';\n",
              "          dataTable['output_type'] = 'display_data';\n",
              "          await google.colab.output.renderOutput(dataTable, element);\n",
              "          const docLink = document.createElement('div');\n",
              "          docLink.innerHTML = docLinkHtml;\n",
              "          element.appendChild(docLink);\n",
              "        }\n",
              "      </script>\n",
              "    </div>\n",
              "  </div>\n",
              "  "
            ]
          },
          "metadata": {},
          "execution_count": 1061
        }
      ],
      "source": [
        "from google.colab import drive\n",
        "drive.mount('/content/gdrive')\n",
        "df = pd.read_csv('/content/gdrive/My Drive/Colab Notebooks/SENECA/BAN210/Module 13: Final Assessment/breast-cancer.csv')\n",
        "df.columns= df.columns.str.lower()\n",
        "df.head()"
      ]
    },
    {
      "cell_type": "markdown",
      "id": "57684c8a",
      "metadata": {
        "id": "57684c8a"
      },
      "source": [
        "**Data Cleaning and Standardization**"
      ]
    },
    {
      "cell_type": "code",
      "execution_count": 1065,
      "id": "225aaca0",
      "metadata": {
        "scrolled": true,
        "id": "225aaca0",
        "outputId": "0d9a6156-0866-4350-9df4-1b95d05dae62",
        "colab": {
          "base_uri": "https://localhost:8080/"
        }
      },
      "outputs": [
        {
          "output_type": "stream",
          "name": "stdout",
          "text": [
            "<class 'pandas.core.frame.DataFrame'>\n",
            "RangeIndex: 286 entries, 0 to 285\n",
            "Data columns (total 10 columns):\n",
            " #   Column       Non-Null Count  Dtype \n",
            "---  ------       --------------  ----- \n",
            " 0   class        286 non-null    object\n",
            " 1   age          286 non-null    object\n",
            " 2   menopause    286 non-null    object\n",
            " 3   tumor-size   286 non-null    object\n",
            " 4   inv-nodes    286 non-null    object\n",
            " 5   node-caps    286 non-null    object\n",
            " 6   deg-malig    286 non-null    int64 \n",
            " 7   breast       286 non-null    object\n",
            " 8   breast-quad  286 non-null    object\n",
            " 9   irradiat     286 non-null    object\n",
            "dtypes: int64(1), object(9)\n",
            "memory usage: 22.5+ KB\n"
          ]
        }
      ],
      "source": [
        "df.info()"
      ]
    },
    {
      "cell_type": "code",
      "execution_count": 1066,
      "id": "69947e8a",
      "metadata": {
        "scrolled": true,
        "id": "69947e8a",
        "outputId": "01be85ad-2acf-4da0-82e3-a6535c6836dc",
        "colab": {
          "base_uri": "https://localhost:8080/"
        }
      },
      "outputs": [
        {
          "output_type": "execute_result",
          "data": {
            "text/plain": [
              "(286, 10)"
            ]
          },
          "metadata": {},
          "execution_count": 1066
        }
      ],
      "source": [
        "df.shape"
      ]
    },
    {
      "cell_type": "markdown",
      "id": "60e8f46f",
      "metadata": {
        "id": "60e8f46f"
      },
      "source": [
        "The Dataset have 286 Observations with 10 Features."
      ]
    },
    {
      "cell_type": "markdown",
      "id": "c2eae2cb",
      "metadata": {
        "id": "c2eae2cb"
      },
      "source": [
        "* Converting data types of categorical varible to Category from Object"
      ]
    },
    {
      "cell_type": "code",
      "execution_count": 1067,
      "id": "92d7dec6",
      "metadata": {
        "id": "92d7dec6",
        "outputId": "377cf18d-92ff-45d5-f3ca-6d9fdf5e91b8",
        "colab": {
          "base_uri": "https://localhost:8080/"
        }
      },
      "outputs": [
        {
          "output_type": "execute_result",
          "data": {
            "text/plain": [
              "no     222\n",
              "yes     56\n",
              "?        8\n",
              "Name: node-caps, dtype: int64"
            ]
          },
          "metadata": {},
          "execution_count": 1067
        }
      ],
      "source": [
        "df['node-caps'].value_counts()"
      ]
    },
    {
      "cell_type": "markdown",
      "id": "98ccb608",
      "metadata": {
        "id": "98ccb608"
      },
      "source": [
        "* We have 8 Missing values represented by \"?\" we shall be dropping such observation and not replace it with any value as the data might become inaccurate."
      ]
    },
    {
      "cell_type": "code",
      "execution_count": 1068,
      "id": "cdc7ae06",
      "metadata": {
        "id": "cdc7ae06",
        "outputId": "6b8e94be-75db-4ff2-832b-61bdeb0eb574",
        "colab": {
          "base_uri": "https://localhost:8080/"
        }
      },
      "outputs": [
        {
          "output_type": "execute_result",
          "data": {
            "text/plain": [
              "left_low     110\n",
              "left_up       97\n",
              "right_up      33\n",
              "right_low     24\n",
              "central       21\n",
              "?              1\n",
              "Name: breast-quad, dtype: int64"
            ]
          },
          "metadata": {},
          "execution_count": 1068
        }
      ],
      "source": [
        "df[\"breast-quad\"].value_counts()"
      ]
    },
    {
      "cell_type": "code",
      "execution_count": 1069,
      "id": "780c637f",
      "metadata": {
        "id": "780c637f"
      },
      "outputs": [],
      "source": [
        "df.drop(df.loc[df[\"node-caps\"] == \"?\", \"node-caps\"].index, axis=0,inplace=True)"
      ]
    },
    {
      "cell_type": "code",
      "execution_count": 1070,
      "id": "f91f6964",
      "metadata": {
        "scrolled": true,
        "id": "f91f6964"
      },
      "outputs": [],
      "source": [
        "df.drop(df.loc[df[\"breast-quad\"] == \"?\", \"breast-quad\"].index, axis=0,inplace=True)"
      ]
    },
    {
      "cell_type": "code",
      "execution_count": 1071,
      "id": "7244b850",
      "metadata": {
        "id": "7244b850"
      },
      "outputs": [],
      "source": [
        "df['class'] = df['class'].astype('category')\n",
        "df['menopause'] = df['menopause'].astype('category')\n",
        "df['deg-malig'] = df['deg-malig'].astype('category')\n",
        "df['node-caps'] = df['node-caps'].astype('category')\n",
        "df['breast'] = df['breast'].astype('category')\n",
        "df['breast-quad'] = df['breast-quad'].astype('category')\n",
        "df['irradiat'] = df['irradiat'].astype('category')"
      ]
    },
    {
      "cell_type": "code",
      "execution_count": 1072,
      "id": "8db38c59",
      "metadata": {
        "id": "8db38c59",
        "outputId": "99395976-bba2-466a-b8e5-61324c1b56c1",
        "colab": {
          "base_uri": "https://localhost:8080/"
        }
      },
      "outputs": [
        {
          "output_type": "stream",
          "name": "stdout",
          "text": [
            "<class 'pandas.core.frame.DataFrame'>\n",
            "Int64Index: 277 entries, 0 to 285\n",
            "Data columns (total 10 columns):\n",
            " #   Column       Non-Null Count  Dtype   \n",
            "---  ------       --------------  -----   \n",
            " 0   class        277 non-null    category\n",
            " 1   age          277 non-null    object  \n",
            " 2   menopause    277 non-null    category\n",
            " 3   tumor-size   277 non-null    object  \n",
            " 4   inv-nodes    277 non-null    object  \n",
            " 5   node-caps    277 non-null    category\n",
            " 6   deg-malig    277 non-null    category\n",
            " 7   breast       277 non-null    category\n",
            " 8   breast-quad  277 non-null    category\n",
            " 9   irradiat     277 non-null    category\n",
            "dtypes: category(7), object(3)\n",
            "memory usage: 11.5+ KB\n"
          ]
        }
      ],
      "source": [
        "df.info()"
      ]
    },
    {
      "cell_type": "code",
      "source": [
        ""
      ],
      "metadata": {
        "id": "rkdHuMDFjglv"
      },
      "id": "rkdHuMDFjglv",
      "execution_count": null,
      "outputs": []
    },
    {
      "cell_type": "markdown",
      "id": "25d0ef4b",
      "metadata": {
        "id": "25d0ef4b"
      },
      "source": [
        "After performing cleaning, we are left with 278 Observations."
      ]
    },
    {
      "cell_type": "markdown",
      "id": "caf66772",
      "metadata": {
        "id": "caf66772"
      },
      "source": [
        "**Checking Duplicate Values**"
      ]
    },
    {
      "cell_type": "code",
      "execution_count": 1073,
      "id": "748ef824",
      "metadata": {
        "id": "748ef824"
      },
      "outputs": [],
      "source": [
        "df_duplicate = df[df.duplicated()]"
      ]
    },
    {
      "cell_type": "code",
      "execution_count": 1074,
      "id": "d9009cf7",
      "metadata": {
        "id": "d9009cf7",
        "outputId": "bfc0e14b-8583-49f3-a186-6760680d17b2",
        "colab": {
          "base_uri": "https://localhost:8080/"
        }
      },
      "outputs": [
        {
          "output_type": "execute_result",
          "data": {
            "text/plain": [
              "class          14\n",
              "age            14\n",
              "menopause      14\n",
              "tumor-size     14\n",
              "inv-nodes      14\n",
              "node-caps      14\n",
              "deg-malig      14\n",
              "breast         14\n",
              "breast-quad    14\n",
              "irradiat       14\n",
              "dtype: int64"
            ]
          },
          "metadata": {},
          "execution_count": 1074
        }
      ],
      "source": [
        "df_duplicate.count()"
      ]
    },
    {
      "cell_type": "markdown",
      "id": "61f67786",
      "metadata": {
        "id": "61f67786"
      },
      "source": [
        "* There are 14 duplicate observations observation. We will keep the first occurrence of the duplicate observation and drop the next occurring one."
      ]
    },
    {
      "cell_type": "code",
      "execution_count": 1075,
      "id": "1362daa3",
      "metadata": {
        "id": "1362daa3"
      },
      "outputs": [],
      "source": [
        "df.drop_duplicates(subset=None, keep='first', inplace=True, ignore_index=False)"
      ]
    },
    {
      "cell_type": "code",
      "execution_count": 1076,
      "id": "17f42b94",
      "metadata": {
        "scrolled": false,
        "id": "17f42b94",
        "outputId": "5b16667d-c523-40ed-a288-c84833db7fe5",
        "colab": {
          "base_uri": "https://localhost:8080/"
        }
      },
      "outputs": [
        {
          "output_type": "stream",
          "name": "stdout",
          "text": [
            "<class 'pandas.core.frame.DataFrame'>\n",
            "Int64Index: 263 entries, 0 to 285\n",
            "Data columns (total 10 columns):\n",
            " #   Column       Non-Null Count  Dtype   \n",
            "---  ------       --------------  -----   \n",
            " 0   class        263 non-null    category\n",
            " 1   age          263 non-null    object  \n",
            " 2   menopause    263 non-null    category\n",
            " 3   tumor-size   263 non-null    object  \n",
            " 4   inv-nodes    263 non-null    object  \n",
            " 5   node-caps    263 non-null    category\n",
            " 6   deg-malig    263 non-null    category\n",
            " 7   breast       263 non-null    category\n",
            " 8   breast-quad  263 non-null    category\n",
            " 9   irradiat     263 non-null    category\n",
            "dtypes: category(7), object(3)\n",
            "memory usage: 11.0+ KB\n"
          ]
        }
      ],
      "source": [
        "df.info()"
      ]
    },
    {
      "cell_type": "markdown",
      "id": "d0ee5b04",
      "metadata": {
        "id": "d0ee5b04"
      },
      "source": [
        "* After dropping the duplicate observations, we are left with 264 observations. "
      ]
    },
    {
      "cell_type": "code",
      "execution_count": 1077,
      "id": "b14aa082",
      "metadata": {
        "id": "b14aa082",
        "outputId": "1735edcc-c66e-4d2c-b8cb-18daf9676b0d",
        "colab": {
          "base_uri": "https://localhost:8080/",
          "height": 363
        }
      },
      "outputs": [
        {
          "output_type": "execute_result",
          "data": {
            "text/plain": [
              "                  class    age menopause tumor-size inv-nodes node-caps  \\\n",
              "0  no-recurrence-events  30-39   premeno      30-34       0-2        no   \n",
              "1  no-recurrence-events  40-49   premeno      20-24       0-2        no   \n",
              "2  no-recurrence-events  40-49   premeno      20-24       0-2        no   \n",
              "3  no-recurrence-events  60-69      ge40      15-19       0-2        no   \n",
              "4  no-recurrence-events  40-49   premeno        0-4       0-2        no   \n",
              "5  no-recurrence-events  60-69      ge40      15-19       0-2        no   \n",
              "6  no-recurrence-events  50-59   premeno      25-29       0-2        no   \n",
              "7  no-recurrence-events  60-69      ge40      20-24       0-2        no   \n",
              "8  no-recurrence-events  40-49   premeno      50-54       0-2        no   \n",
              "9  no-recurrence-events  40-49   premeno      20-24       0-2        no   \n",
              "\n",
              "  deg-malig breast breast-quad irradiat  \n",
              "0         3   left    left_low       no  \n",
              "1         2  right    right_up       no  \n",
              "2         2   left    left_low       no  \n",
              "3         2  right     left_up       no  \n",
              "4         2  right   right_low       no  \n",
              "5         2   left    left_low       no  \n",
              "6         2   left    left_low       no  \n",
              "7         1   left    left_low       no  \n",
              "8         2   left    left_low       no  \n",
              "9         2  right     left_up       no  "
            ],
            "text/html": [
              "\n",
              "  <div id=\"df-c344fcaa-e089-444e-a328-6714450d6005\">\n",
              "    <div class=\"colab-df-container\">\n",
              "      <div>\n",
              "<style scoped>\n",
              "    .dataframe tbody tr th:only-of-type {\n",
              "        vertical-align: middle;\n",
              "    }\n",
              "\n",
              "    .dataframe tbody tr th {\n",
              "        vertical-align: top;\n",
              "    }\n",
              "\n",
              "    .dataframe thead th {\n",
              "        text-align: right;\n",
              "    }\n",
              "</style>\n",
              "<table border=\"1\" class=\"dataframe\">\n",
              "  <thead>\n",
              "    <tr style=\"text-align: right;\">\n",
              "      <th></th>\n",
              "      <th>class</th>\n",
              "      <th>age</th>\n",
              "      <th>menopause</th>\n",
              "      <th>tumor-size</th>\n",
              "      <th>inv-nodes</th>\n",
              "      <th>node-caps</th>\n",
              "      <th>deg-malig</th>\n",
              "      <th>breast</th>\n",
              "      <th>breast-quad</th>\n",
              "      <th>irradiat</th>\n",
              "    </tr>\n",
              "  </thead>\n",
              "  <tbody>\n",
              "    <tr>\n",
              "      <th>0</th>\n",
              "      <td>no-recurrence-events</td>\n",
              "      <td>30-39</td>\n",
              "      <td>premeno</td>\n",
              "      <td>30-34</td>\n",
              "      <td>0-2</td>\n",
              "      <td>no</td>\n",
              "      <td>3</td>\n",
              "      <td>left</td>\n",
              "      <td>left_low</td>\n",
              "      <td>no</td>\n",
              "    </tr>\n",
              "    <tr>\n",
              "      <th>1</th>\n",
              "      <td>no-recurrence-events</td>\n",
              "      <td>40-49</td>\n",
              "      <td>premeno</td>\n",
              "      <td>20-24</td>\n",
              "      <td>0-2</td>\n",
              "      <td>no</td>\n",
              "      <td>2</td>\n",
              "      <td>right</td>\n",
              "      <td>right_up</td>\n",
              "      <td>no</td>\n",
              "    </tr>\n",
              "    <tr>\n",
              "      <th>2</th>\n",
              "      <td>no-recurrence-events</td>\n",
              "      <td>40-49</td>\n",
              "      <td>premeno</td>\n",
              "      <td>20-24</td>\n",
              "      <td>0-2</td>\n",
              "      <td>no</td>\n",
              "      <td>2</td>\n",
              "      <td>left</td>\n",
              "      <td>left_low</td>\n",
              "      <td>no</td>\n",
              "    </tr>\n",
              "    <tr>\n",
              "      <th>3</th>\n",
              "      <td>no-recurrence-events</td>\n",
              "      <td>60-69</td>\n",
              "      <td>ge40</td>\n",
              "      <td>15-19</td>\n",
              "      <td>0-2</td>\n",
              "      <td>no</td>\n",
              "      <td>2</td>\n",
              "      <td>right</td>\n",
              "      <td>left_up</td>\n",
              "      <td>no</td>\n",
              "    </tr>\n",
              "    <tr>\n",
              "      <th>4</th>\n",
              "      <td>no-recurrence-events</td>\n",
              "      <td>40-49</td>\n",
              "      <td>premeno</td>\n",
              "      <td>0-4</td>\n",
              "      <td>0-2</td>\n",
              "      <td>no</td>\n",
              "      <td>2</td>\n",
              "      <td>right</td>\n",
              "      <td>right_low</td>\n",
              "      <td>no</td>\n",
              "    </tr>\n",
              "    <tr>\n",
              "      <th>5</th>\n",
              "      <td>no-recurrence-events</td>\n",
              "      <td>60-69</td>\n",
              "      <td>ge40</td>\n",
              "      <td>15-19</td>\n",
              "      <td>0-2</td>\n",
              "      <td>no</td>\n",
              "      <td>2</td>\n",
              "      <td>left</td>\n",
              "      <td>left_low</td>\n",
              "      <td>no</td>\n",
              "    </tr>\n",
              "    <tr>\n",
              "      <th>6</th>\n",
              "      <td>no-recurrence-events</td>\n",
              "      <td>50-59</td>\n",
              "      <td>premeno</td>\n",
              "      <td>25-29</td>\n",
              "      <td>0-2</td>\n",
              "      <td>no</td>\n",
              "      <td>2</td>\n",
              "      <td>left</td>\n",
              "      <td>left_low</td>\n",
              "      <td>no</td>\n",
              "    </tr>\n",
              "    <tr>\n",
              "      <th>7</th>\n",
              "      <td>no-recurrence-events</td>\n",
              "      <td>60-69</td>\n",
              "      <td>ge40</td>\n",
              "      <td>20-24</td>\n",
              "      <td>0-2</td>\n",
              "      <td>no</td>\n",
              "      <td>1</td>\n",
              "      <td>left</td>\n",
              "      <td>left_low</td>\n",
              "      <td>no</td>\n",
              "    </tr>\n",
              "    <tr>\n",
              "      <th>8</th>\n",
              "      <td>no-recurrence-events</td>\n",
              "      <td>40-49</td>\n",
              "      <td>premeno</td>\n",
              "      <td>50-54</td>\n",
              "      <td>0-2</td>\n",
              "      <td>no</td>\n",
              "      <td>2</td>\n",
              "      <td>left</td>\n",
              "      <td>left_low</td>\n",
              "      <td>no</td>\n",
              "    </tr>\n",
              "    <tr>\n",
              "      <th>9</th>\n",
              "      <td>no-recurrence-events</td>\n",
              "      <td>40-49</td>\n",
              "      <td>premeno</td>\n",
              "      <td>20-24</td>\n",
              "      <td>0-2</td>\n",
              "      <td>no</td>\n",
              "      <td>2</td>\n",
              "      <td>right</td>\n",
              "      <td>left_up</td>\n",
              "      <td>no</td>\n",
              "    </tr>\n",
              "  </tbody>\n",
              "</table>\n",
              "</div>\n",
              "      <button class=\"colab-df-convert\" onclick=\"convertToInteractive('df-c344fcaa-e089-444e-a328-6714450d6005')\"\n",
              "              title=\"Convert this dataframe to an interactive table.\"\n",
              "              style=\"display:none;\">\n",
              "        \n",
              "  <svg xmlns=\"http://www.w3.org/2000/svg\" height=\"24px\"viewBox=\"0 0 24 24\"\n",
              "       width=\"24px\">\n",
              "    <path d=\"M0 0h24v24H0V0z\" fill=\"none\"/>\n",
              "    <path d=\"M18.56 5.44l.94 2.06.94-2.06 2.06-.94-2.06-.94-.94-2.06-.94 2.06-2.06.94zm-11 1L8.5 8.5l.94-2.06 2.06-.94-2.06-.94L8.5 2.5l-.94 2.06-2.06.94zm10 10l.94 2.06.94-2.06 2.06-.94-2.06-.94-.94-2.06-.94 2.06-2.06.94z\"/><path d=\"M17.41 7.96l-1.37-1.37c-.4-.4-.92-.59-1.43-.59-.52 0-1.04.2-1.43.59L10.3 9.45l-7.72 7.72c-.78.78-.78 2.05 0 2.83L4 21.41c.39.39.9.59 1.41.59.51 0 1.02-.2 1.41-.59l7.78-7.78 2.81-2.81c.8-.78.8-2.07 0-2.86zM5.41 20L4 18.59l7.72-7.72 1.47 1.35L5.41 20z\"/>\n",
              "  </svg>\n",
              "      </button>\n",
              "      \n",
              "  <style>\n",
              "    .colab-df-container {\n",
              "      display:flex;\n",
              "      flex-wrap:wrap;\n",
              "      gap: 12px;\n",
              "    }\n",
              "\n",
              "    .colab-df-convert {\n",
              "      background-color: #E8F0FE;\n",
              "      border: none;\n",
              "      border-radius: 50%;\n",
              "      cursor: pointer;\n",
              "      display: none;\n",
              "      fill: #1967D2;\n",
              "      height: 32px;\n",
              "      padding: 0 0 0 0;\n",
              "      width: 32px;\n",
              "    }\n",
              "\n",
              "    .colab-df-convert:hover {\n",
              "      background-color: #E2EBFA;\n",
              "      box-shadow: 0px 1px 2px rgba(60, 64, 67, 0.3), 0px 1px 3px 1px rgba(60, 64, 67, 0.15);\n",
              "      fill: #174EA6;\n",
              "    }\n",
              "\n",
              "    [theme=dark] .colab-df-convert {\n",
              "      background-color: #3B4455;\n",
              "      fill: #D2E3FC;\n",
              "    }\n",
              "\n",
              "    [theme=dark] .colab-df-convert:hover {\n",
              "      background-color: #434B5C;\n",
              "      box-shadow: 0px 1px 3px 1px rgba(0, 0, 0, 0.15);\n",
              "      filter: drop-shadow(0px 1px 2px rgba(0, 0, 0, 0.3));\n",
              "      fill: #FFFFFF;\n",
              "    }\n",
              "  </style>\n",
              "\n",
              "      <script>\n",
              "        const buttonEl =\n",
              "          document.querySelector('#df-c344fcaa-e089-444e-a328-6714450d6005 button.colab-df-convert');\n",
              "        buttonEl.style.display =\n",
              "          google.colab.kernel.accessAllowed ? 'block' : 'none';\n",
              "\n",
              "        async function convertToInteractive(key) {\n",
              "          const element = document.querySelector('#df-c344fcaa-e089-444e-a328-6714450d6005');\n",
              "          const dataTable =\n",
              "            await google.colab.kernel.invokeFunction('convertToInteractive',\n",
              "                                                     [key], {});\n",
              "          if (!dataTable) return;\n",
              "\n",
              "          const docLinkHtml = 'Like what you see? Visit the ' +\n",
              "            '<a target=\"_blank\" href=https://colab.research.google.com/notebooks/data_table.ipynb>data table notebook</a>'\n",
              "            + ' to learn more about interactive tables.';\n",
              "          element.innerHTML = '';\n",
              "          dataTable['output_type'] = 'display_data';\n",
              "          await google.colab.output.renderOutput(dataTable, element);\n",
              "          const docLink = document.createElement('div');\n",
              "          docLink.innerHTML = docLinkHtml;\n",
              "          element.appendChild(docLink);\n",
              "        }\n",
              "      </script>\n",
              "    </div>\n",
              "  </div>\n",
              "  "
            ]
          },
          "metadata": {},
          "execution_count": 1077
        }
      ],
      "source": [
        "df.head(10)"
      ]
    },
    {
      "cell_type": "code",
      "execution_count": 1078,
      "id": "cb44c796",
      "metadata": {
        "id": "cb44c796",
        "outputId": "ab73ecb1-3db9-4981-a042-c034e67f0b63",
        "colab": {
          "base_uri": "https://localhost:8080/",
          "height": 363
        }
      },
      "outputs": [
        {
          "output_type": "execute_result",
          "data": {
            "text/plain": [
              "                 class    age menopause tumor-size inv-nodes node-caps  \\\n",
              "275  recurrence-events  40-49   premeno      25-29      9-11       yes   \n",
              "276  recurrence-events  30-39   premeno      25-29       6-8       yes   \n",
              "277  recurrence-events  60-69      ge40      10-14       6-8       yes   \n",
              "278  recurrence-events  50-59   premeno      35-39     15-17       yes   \n",
              "279  recurrence-events  50-59      ge40      40-44       6-8       yes   \n",
              "281  recurrence-events  30-39   premeno      30-34       0-2        no   \n",
              "282  recurrence-events  30-39   premeno      20-24       0-2        no   \n",
              "283  recurrence-events  60-69      ge40      20-24       0-2        no   \n",
              "284  recurrence-events  40-49      ge40      30-34       3-5        no   \n",
              "285  recurrence-events  50-59      ge40      30-34       3-5        no   \n",
              "\n",
              "    deg-malig breast breast-quad irradiat  \n",
              "275         3  right     left_up       no  \n",
              "276         3   left   right_low      yes  \n",
              "277         3   left     left_up      yes  \n",
              "278         3  right    right_up       no  \n",
              "279         3   left    left_low      yes  \n",
              "281         2   left     left_up       no  \n",
              "282         3   left     left_up      yes  \n",
              "283         1  right     left_up       no  \n",
              "284         3   left    left_low       no  \n",
              "285         3   left    left_low       no  "
            ],
            "text/html": [
              "\n",
              "  <div id=\"df-608f453e-d340-4785-9241-f3b589d4ec9f\">\n",
              "    <div class=\"colab-df-container\">\n",
              "      <div>\n",
              "<style scoped>\n",
              "    .dataframe tbody tr th:only-of-type {\n",
              "        vertical-align: middle;\n",
              "    }\n",
              "\n",
              "    .dataframe tbody tr th {\n",
              "        vertical-align: top;\n",
              "    }\n",
              "\n",
              "    .dataframe thead th {\n",
              "        text-align: right;\n",
              "    }\n",
              "</style>\n",
              "<table border=\"1\" class=\"dataframe\">\n",
              "  <thead>\n",
              "    <tr style=\"text-align: right;\">\n",
              "      <th></th>\n",
              "      <th>class</th>\n",
              "      <th>age</th>\n",
              "      <th>menopause</th>\n",
              "      <th>tumor-size</th>\n",
              "      <th>inv-nodes</th>\n",
              "      <th>node-caps</th>\n",
              "      <th>deg-malig</th>\n",
              "      <th>breast</th>\n",
              "      <th>breast-quad</th>\n",
              "      <th>irradiat</th>\n",
              "    </tr>\n",
              "  </thead>\n",
              "  <tbody>\n",
              "    <tr>\n",
              "      <th>275</th>\n",
              "      <td>recurrence-events</td>\n",
              "      <td>40-49</td>\n",
              "      <td>premeno</td>\n",
              "      <td>25-29</td>\n",
              "      <td>9-11</td>\n",
              "      <td>yes</td>\n",
              "      <td>3</td>\n",
              "      <td>right</td>\n",
              "      <td>left_up</td>\n",
              "      <td>no</td>\n",
              "    </tr>\n",
              "    <tr>\n",
              "      <th>276</th>\n",
              "      <td>recurrence-events</td>\n",
              "      <td>30-39</td>\n",
              "      <td>premeno</td>\n",
              "      <td>25-29</td>\n",
              "      <td>6-8</td>\n",
              "      <td>yes</td>\n",
              "      <td>3</td>\n",
              "      <td>left</td>\n",
              "      <td>right_low</td>\n",
              "      <td>yes</td>\n",
              "    </tr>\n",
              "    <tr>\n",
              "      <th>277</th>\n",
              "      <td>recurrence-events</td>\n",
              "      <td>60-69</td>\n",
              "      <td>ge40</td>\n",
              "      <td>10-14</td>\n",
              "      <td>6-8</td>\n",
              "      <td>yes</td>\n",
              "      <td>3</td>\n",
              "      <td>left</td>\n",
              "      <td>left_up</td>\n",
              "      <td>yes</td>\n",
              "    </tr>\n",
              "    <tr>\n",
              "      <th>278</th>\n",
              "      <td>recurrence-events</td>\n",
              "      <td>50-59</td>\n",
              "      <td>premeno</td>\n",
              "      <td>35-39</td>\n",
              "      <td>15-17</td>\n",
              "      <td>yes</td>\n",
              "      <td>3</td>\n",
              "      <td>right</td>\n",
              "      <td>right_up</td>\n",
              "      <td>no</td>\n",
              "    </tr>\n",
              "    <tr>\n",
              "      <th>279</th>\n",
              "      <td>recurrence-events</td>\n",
              "      <td>50-59</td>\n",
              "      <td>ge40</td>\n",
              "      <td>40-44</td>\n",
              "      <td>6-8</td>\n",
              "      <td>yes</td>\n",
              "      <td>3</td>\n",
              "      <td>left</td>\n",
              "      <td>left_low</td>\n",
              "      <td>yes</td>\n",
              "    </tr>\n",
              "    <tr>\n",
              "      <th>281</th>\n",
              "      <td>recurrence-events</td>\n",
              "      <td>30-39</td>\n",
              "      <td>premeno</td>\n",
              "      <td>30-34</td>\n",
              "      <td>0-2</td>\n",
              "      <td>no</td>\n",
              "      <td>2</td>\n",
              "      <td>left</td>\n",
              "      <td>left_up</td>\n",
              "      <td>no</td>\n",
              "    </tr>\n",
              "    <tr>\n",
              "      <th>282</th>\n",
              "      <td>recurrence-events</td>\n",
              "      <td>30-39</td>\n",
              "      <td>premeno</td>\n",
              "      <td>20-24</td>\n",
              "      <td>0-2</td>\n",
              "      <td>no</td>\n",
              "      <td>3</td>\n",
              "      <td>left</td>\n",
              "      <td>left_up</td>\n",
              "      <td>yes</td>\n",
              "    </tr>\n",
              "    <tr>\n",
              "      <th>283</th>\n",
              "      <td>recurrence-events</td>\n",
              "      <td>60-69</td>\n",
              "      <td>ge40</td>\n",
              "      <td>20-24</td>\n",
              "      <td>0-2</td>\n",
              "      <td>no</td>\n",
              "      <td>1</td>\n",
              "      <td>right</td>\n",
              "      <td>left_up</td>\n",
              "      <td>no</td>\n",
              "    </tr>\n",
              "    <tr>\n",
              "      <th>284</th>\n",
              "      <td>recurrence-events</td>\n",
              "      <td>40-49</td>\n",
              "      <td>ge40</td>\n",
              "      <td>30-34</td>\n",
              "      <td>3-5</td>\n",
              "      <td>no</td>\n",
              "      <td>3</td>\n",
              "      <td>left</td>\n",
              "      <td>left_low</td>\n",
              "      <td>no</td>\n",
              "    </tr>\n",
              "    <tr>\n",
              "      <th>285</th>\n",
              "      <td>recurrence-events</td>\n",
              "      <td>50-59</td>\n",
              "      <td>ge40</td>\n",
              "      <td>30-34</td>\n",
              "      <td>3-5</td>\n",
              "      <td>no</td>\n",
              "      <td>3</td>\n",
              "      <td>left</td>\n",
              "      <td>left_low</td>\n",
              "      <td>no</td>\n",
              "    </tr>\n",
              "  </tbody>\n",
              "</table>\n",
              "</div>\n",
              "      <button class=\"colab-df-convert\" onclick=\"convertToInteractive('df-608f453e-d340-4785-9241-f3b589d4ec9f')\"\n",
              "              title=\"Convert this dataframe to an interactive table.\"\n",
              "              style=\"display:none;\">\n",
              "        \n",
              "  <svg xmlns=\"http://www.w3.org/2000/svg\" height=\"24px\"viewBox=\"0 0 24 24\"\n",
              "       width=\"24px\">\n",
              "    <path d=\"M0 0h24v24H0V0z\" fill=\"none\"/>\n",
              "    <path d=\"M18.56 5.44l.94 2.06.94-2.06 2.06-.94-2.06-.94-.94-2.06-.94 2.06-2.06.94zm-11 1L8.5 8.5l.94-2.06 2.06-.94-2.06-.94L8.5 2.5l-.94 2.06-2.06.94zm10 10l.94 2.06.94-2.06 2.06-.94-2.06-.94-.94-2.06-.94 2.06-2.06.94z\"/><path d=\"M17.41 7.96l-1.37-1.37c-.4-.4-.92-.59-1.43-.59-.52 0-1.04.2-1.43.59L10.3 9.45l-7.72 7.72c-.78.78-.78 2.05 0 2.83L4 21.41c.39.39.9.59 1.41.59.51 0 1.02-.2 1.41-.59l7.78-7.78 2.81-2.81c.8-.78.8-2.07 0-2.86zM5.41 20L4 18.59l7.72-7.72 1.47 1.35L5.41 20z\"/>\n",
              "  </svg>\n",
              "      </button>\n",
              "      \n",
              "  <style>\n",
              "    .colab-df-container {\n",
              "      display:flex;\n",
              "      flex-wrap:wrap;\n",
              "      gap: 12px;\n",
              "    }\n",
              "\n",
              "    .colab-df-convert {\n",
              "      background-color: #E8F0FE;\n",
              "      border: none;\n",
              "      border-radius: 50%;\n",
              "      cursor: pointer;\n",
              "      display: none;\n",
              "      fill: #1967D2;\n",
              "      height: 32px;\n",
              "      padding: 0 0 0 0;\n",
              "      width: 32px;\n",
              "    }\n",
              "\n",
              "    .colab-df-convert:hover {\n",
              "      background-color: #E2EBFA;\n",
              "      box-shadow: 0px 1px 2px rgba(60, 64, 67, 0.3), 0px 1px 3px 1px rgba(60, 64, 67, 0.15);\n",
              "      fill: #174EA6;\n",
              "    }\n",
              "\n",
              "    [theme=dark] .colab-df-convert {\n",
              "      background-color: #3B4455;\n",
              "      fill: #D2E3FC;\n",
              "    }\n",
              "\n",
              "    [theme=dark] .colab-df-convert:hover {\n",
              "      background-color: #434B5C;\n",
              "      box-shadow: 0px 1px 3px 1px rgba(0, 0, 0, 0.15);\n",
              "      filter: drop-shadow(0px 1px 2px rgba(0, 0, 0, 0.3));\n",
              "      fill: #FFFFFF;\n",
              "    }\n",
              "  </style>\n",
              "\n",
              "      <script>\n",
              "        const buttonEl =\n",
              "          document.querySelector('#df-608f453e-d340-4785-9241-f3b589d4ec9f button.colab-df-convert');\n",
              "        buttonEl.style.display =\n",
              "          google.colab.kernel.accessAllowed ? 'block' : 'none';\n",
              "\n",
              "        async function convertToInteractive(key) {\n",
              "          const element = document.querySelector('#df-608f453e-d340-4785-9241-f3b589d4ec9f');\n",
              "          const dataTable =\n",
              "            await google.colab.kernel.invokeFunction('convertToInteractive',\n",
              "                                                     [key], {});\n",
              "          if (!dataTable) return;\n",
              "\n",
              "          const docLinkHtml = 'Like what you see? Visit the ' +\n",
              "            '<a target=\"_blank\" href=https://colab.research.google.com/notebooks/data_table.ipynb>data table notebook</a>'\n",
              "            + ' to learn more about interactive tables.';\n",
              "          element.innerHTML = '';\n",
              "          dataTable['output_type'] = 'display_data';\n",
              "          await google.colab.output.renderOutput(dataTable, element);\n",
              "          const docLink = document.createElement('div');\n",
              "          docLink.innerHTML = docLinkHtml;\n",
              "          element.appendChild(docLink);\n",
              "        }\n",
              "      </script>\n",
              "    </div>\n",
              "  </div>\n",
              "  "
            ]
          },
          "metadata": {},
          "execution_count": 1078
        }
      ],
      "source": [
        "df.tail(10)"
      ]
    },
    {
      "cell_type": "code",
      "execution_count": 1079,
      "id": "4e1e075f",
      "metadata": {
        "scrolled": true,
        "id": "4e1e075f",
        "outputId": "26474449-8eb1-40a1-af7f-0f088ee9e663",
        "colab": {
          "base_uri": "https://localhost:8080/",
          "height": 381
        }
      },
      "outputs": [
        {
          "output_type": "execute_result",
          "data": {
            "text/plain": [
              "<matplotlib.axes._subplots.AxesSubplot at 0x7fb37de2acd0>"
            ]
          },
          "metadata": {},
          "execution_count": 1079
        },
        {
          "output_type": "display_data",
          "data": {
            "text/plain": [
              "<Figure size 432x288 with 1 Axes>"
            ],
            "image/png": "[encoded data removed]"
          },
          "metadata": {
            "needs_background": "light"
          }
        }
      ],
      "source": [
        "df['class'].value_counts().plot(kind='bar')"
      ]
    },
    {
      "cell_type": "code",
      "execution_count": 1080,
      "id": "29f2d538",
      "metadata": {
        "id": "29f2d538",
        "outputId": "99826a63-8827-4811-f337-7f107fd9a016",
        "colab": {
          "base_uri": "https://localhost:8080/",
          "height": 302
        }
      },
      "outputs": [
        {
          "output_type": "execute_result",
          "data": {
            "text/plain": [
              "<matplotlib.axes._subplots.AxesSubplot at 0x7fb37ddf3090>"
            ]
          },
          "metadata": {},
          "execution_count": 1080
        },
        {
          "output_type": "display_data",
          "data": {
            "text/plain": [
              "<Figure size 432x288 with 1 Axes>"
            ],
            "image/png": "[encoded data removed]"
          },
          "metadata": {
            "needs_background": "light"
          }
        }
      ],
      "source": [
        "df['age'].value_counts(sorted).plot(kind='bar')"
      ]
    },
    {
      "cell_type": "code",
      "execution_count": 1081,
      "id": "9d177c40",
      "metadata": {
        "id": "9d177c40",
        "outputId": "d2279f92-3254-43b4-8eb8-4b6fc71139da",
        "colab": {
          "base_uri": "https://localhost:8080/"
        }
      },
      "outputs": [
        {
          "output_type": "execute_result",
          "data": {
            "text/plain": [
              "premeno    142\n",
              "ge40       116\n",
              "lt40         5\n",
              "Name: menopause, dtype: int64"
            ]
          },
          "metadata": {},
          "execution_count": 1081
        }
      ],
      "source": [
        "df['menopause'].value_counts()"
      ]
    },
    {
      "cell_type": "code",
      "execution_count": 1139,
      "id": "484d1e0b",
      "metadata": {
        "scrolled": true,
        "id": "484d1e0b",
        "outputId": "db37b4dc-c8a4-4cdc-a96c-5db873be3f48",
        "colab": {
          "base_uri": "https://localhost:8080/",
          "height": 291
        }
      },
      "outputs": [
        {
          "output_type": "execute_result",
          "data": {
            "text/plain": [
              "<matplotlib.axes._subplots.AxesSubplot at 0x7fb37df52dd0>"
            ]
          },
          "metadata": {},
          "execution_count": 1139
        },
        {
          "output_type": "display_data",
          "data": {
            "text/plain": [
              "<Figure size 432x288 with 1 Axes>"
            ],
            "image/png": "[encoded data removed]"
          },
          "metadata": {
            "needs_background": "light"
          }
        }
      ],
      "source": [
        "df['irradiat'].value_counts().plot(kind='bar',)"
      ]
    },
    {
      "cell_type": "code",
      "execution_count": 1083,
      "id": "04d807f5",
      "metadata": {
        "id": "04d807f5",
        "colab": {
          "base_uri": "https://localhost:8080/",
          "height": 302
        },
        "outputId": "cb3294c5-5f18-4b25-e31d-c5657083e57f"
      },
      "outputs": [
        {
          "output_type": "execute_result",
          "data": {
            "text/plain": [
              "<matplotlib.axes._subplots.AxesSubplot at 0x7fb37dd01d90>"
            ]
          },
          "metadata": {},
          "execution_count": 1083
        },
        {
          "output_type": "display_data",
          "data": {
            "text/plain": [
              "<Figure size 432x288 with 1 Axes>"
            ],
            "image/png": "[encoded data removed]"
          },
          "metadata": {
            "needs_background": "light"
          }
        }
      ],
      "source": [
        "df['tumor-size'].value_counts().plot(kind='bar',)"
      ]
    },
    {
      "cell_type": "code",
      "execution_count": 1084,
      "id": "e4262800",
      "metadata": {
        "id": "e4262800",
        "outputId": "a158294c-ae9a-4067-abca-e7ce81413579",
        "colab": {
          "base_uri": "https://localhost:8080/",
          "height": 302
        }
      },
      "outputs": [
        {
          "output_type": "execute_result",
          "data": {
            "text/plain": [
              "<matplotlib.axes._subplots.AxesSubplot at 0x7fb37dc0ff50>"
            ]
          },
          "metadata": {},
          "execution_count": 1084
        },
        {
          "output_type": "display_data",
          "data": {
            "text/plain": [
              "<Figure size 432x288 with 1 Axes>"
            ],
            "image/png": "[encoded data removed]"
          },
          "metadata": {
            "needs_background": "light"
          }
        }
      ],
      "source": [
        "df['inv-nodes'].value_counts(sorted).plot(kind='bar')"
      ]
    },
    {
      "cell_type": "code",
      "execution_count": 1085,
      "id": "07653e00",
      "metadata": {
        "id": "07653e00",
        "outputId": "508ac58a-dc9e-47aa-f9ab-7209ffc20035",
        "colab": {
          "base_uri": "https://localhost:8080/"
        }
      },
      "outputs": [
        {
          "output_type": "execute_result",
          "data": {
            "text/plain": [
              "2    123\n",
              "3     79\n",
              "1     61\n",
              "Name: deg-malig, dtype: int64"
            ]
          },
          "metadata": {},
          "execution_count": 1085
        }
      ],
      "source": [
        "df['deg-malig'].value_counts()"
      ]
    },
    {
      "cell_type": "code",
      "execution_count": 1086,
      "id": "de79daac",
      "metadata": {
        "scrolled": true,
        "id": "de79daac",
        "outputId": "3f87fb66-aa03-4601-89bd-67cf9f31bec0",
        "colab": {
          "base_uri": "https://localhost:8080/"
        }
      },
      "outputs": [
        {
          "output_type": "execute_result",
          "data": {
            "text/plain": [
              "20-24    20\n",
              "30-34    20\n",
              "25-29    16\n",
              "10-14     7\n",
              "35-39     7\n",
              "15-19     5\n",
              "40-44     5\n",
              "0-4       2\n",
              "50-54     2\n",
              "5-9       1\n",
              "45-49     1\n",
              "Name: tumor-size, dtype: int64"
            ]
          },
          "metadata": {},
          "execution_count": 1086
        }
      ],
      "source": [
        "df.loc[df[\"age\"] == \"40-49\", \"tumor-size\"].value_counts()"
      ]
    },
    {
      "cell_type": "code",
      "execution_count": 1087,
      "id": "63fe1fa5",
      "metadata": {
        "id": "63fe1fa5",
        "outputId": "05179ac7-8323-4f40-b9d3-bdd92b4ff536",
        "colab": {
          "base_uri": "https://localhost:8080/"
        }
      },
      "outputs": [
        {
          "output_type": "execute_result",
          "data": {
            "text/plain": [
              "25-29    19\n",
              "30-34    17\n",
              "20-24    11\n",
              "15-19     9\n",
              "10-14     9\n",
              "40-44     7\n",
              "35-39     7\n",
              "0-4       3\n",
              "50-54     3\n",
              "5-9       1\n",
              "Name: tumor-size, dtype: int64"
            ]
          },
          "metadata": {},
          "execution_count": 1087
        }
      ],
      "source": [
        "df.loc[df[\"age\"] == \"50-59\", \"tumor-size\"].value_counts()"
      ]
    },
    {
      "cell_type": "code",
      "execution_count": 1088,
      "id": "5a8afe4c",
      "metadata": {
        "id": "5a8afe4c",
        "outputId": "49faf2b3-2247-4ce3-f386-73e0d65b8ab0",
        "colab": {
          "base_uri": "https://localhost:8080/"
        }
      },
      "outputs": [
        {
          "output_type": "execute_result",
          "data": {
            "text/plain": [
              "left     136\n",
              "right    127\n",
              "Name: breast, dtype: int64"
            ]
          },
          "metadata": {},
          "execution_count": 1088
        }
      ],
      "source": [
        "df['breast'].value_counts()"
      ]
    },
    {
      "cell_type": "code",
      "execution_count": 1089,
      "id": "6c6c3974",
      "metadata": {
        "scrolled": false,
        "id": "6c6c3974",
        "outputId": "51180bf9-b0c6-4874-a238-aaad55c8b358",
        "colab": {
          "base_uri": "https://localhost:8080/"
        }
      },
      "outputs": [
        {
          "output_type": "execute_result",
          "data": {
            "text/plain": [
              "left_low     99\n",
              "left_up      89\n",
              "right_up     32\n",
              "right_low    23\n",
              "central      20\n",
              "Name: breast-quad, dtype: int64"
            ]
          },
          "metadata": {},
          "execution_count": 1089
        }
      ],
      "source": [
        "df['breast-quad'].value_counts()"
      ]
    },
    {
      "cell_type": "code",
      "execution_count": 1090,
      "id": "d97ee295",
      "metadata": {
        "id": "d97ee295"
      },
      "outputs": [],
      "source": [
        "df.drop(df.loc[df[\"breast-quad\"] == \"?\", \"breast-quad\"].index, axis=0,inplace=True)"
      ]
    },
    {
      "cell_type": "code",
      "execution_count": 1091,
      "id": "ed12b13c",
      "metadata": {
        "scrolled": true,
        "id": "ed12b13c",
        "outputId": "00ab530f-0f1a-48da-b74e-9fc95bd0eecc",
        "colab": {
          "base_uri": "https://localhost:8080/"
        }
      },
      "outputs": [
        {
          "output_type": "execute_result",
          "data": {
            "text/plain": [
              "no     202\n",
              "yes     61\n",
              "Name: irradiat, dtype: int64"
            ]
          },
          "metadata": {},
          "execution_count": 1091
        }
      ],
      "source": [
        "df['irradiat'].value_counts()"
      ]
    },
    {
      "cell_type": "code",
      "execution_count": 1092,
      "id": "4a5a9baf",
      "metadata": {
        "id": "4a5a9baf",
        "outputId": "585bad73-d6ed-4982-e76a-c2f30ede4dcb",
        "colab": {
          "base_uri": "https://localhost:8080/"
        }
      },
      "outputs": [
        {
          "output_type": "stream",
          "name": "stdout",
          "text": [
            "<class 'pandas.core.frame.DataFrame'>\n",
            "Int64Index: 263 entries, 0 to 285\n",
            "Data columns (total 10 columns):\n",
            " #   Column       Non-Null Count  Dtype   \n",
            "---  ------       --------------  -----   \n",
            " 0   class        263 non-null    category\n",
            " 1   age          263 non-null    object  \n",
            " 2   menopause    263 non-null    category\n",
            " 3   tumor-size   263 non-null    object  \n",
            " 4   inv-nodes    263 non-null    object  \n",
            " 5   node-caps    263 non-null    category\n",
            " 6   deg-malig    263 non-null    category\n",
            " 7   breast       263 non-null    category\n",
            " 8   breast-quad  263 non-null    category\n",
            " 9   irradiat     263 non-null    category\n",
            "dtypes: category(7), object(3)\n",
            "memory usage: 19.1+ KB\n"
          ]
        }
      ],
      "source": [
        "df.info()"
      ]
    },
    {
      "cell_type": "markdown",
      "id": "4a7fd49b",
      "metadata": {
        "id": "4a7fd49b"
      },
      "source": [
        "### Chi-Square Test"
      ]
    },
    {
      "cell_type": "markdown",
      "id": "891431b1",
      "metadata": {
        "id": "891431b1"
      },
      "source": [
        "#### Hyphothesis Analysis\n",
        "\n",
        "H0: The variables are not correlated with each other. "
      ]
    },
    {
      "cell_type": "code",
      "execution_count": 1093,
      "id": "74568503",
      "metadata": {
        "id": "74568503",
        "outputId": "5189c42f-4443-4bf8-9d43-4454dc76da02",
        "colab": {
          "base_uri": "https://localhost:8080/"
        }
      },
      "outputs": [
        {
          "output_type": "stream",
          "name": "stdout",
          "text": [
            "irradiat               no  yes\n",
            "class                         \n",
            "no-recurrence-events  154   32\n",
            "recurrence-events      48   29\n",
            "breast                left  right\n",
            "class                            \n",
            "no-recurrence-events    94     92\n",
            "recurrence-events       42     35\n",
            "tumor-size            0-4  10-14  15-19  20-24  25-29  30-34  35-39  40-44  \\\n",
            "class                                                                        \n",
            "no-recurrence-events    7     25     19     31     32     33     12     16   \n",
            "recurrence-events       1      1      6     14     16     24      6      5   \n",
            "\n",
            "tumor-size            45-49  5-9  50-54  \n",
            "class                                    \n",
            "no-recurrence-events      2    4      5  \n",
            "recurrence-events         1    0      3  \n",
            "deg-malig   1   2   3\n",
            "breast               \n",
            "left       31  61  44\n",
            "right      30  62  35\n",
            "breast-quad  central  left_low  left_up  right_low  right_up\n",
            "breast                                                      \n",
            "left              11        69       32         16         8\n",
            "right              9        30       57          7        24\n",
            "node-caps   no  yes\n",
            "breast             \n",
            "left       107   29\n",
            "right      101   26\n",
            "The P-Value of the ChiSqResult_class_irradiat Test is: 0.0006346956730777489\n",
            "The P-Value of the ChiSqResult_class_breast Test is: 0.648198791155018\n",
            "The P-Value of the ChiSqResult_class_tumorSize Test is: 0.07623227729746207\n",
            "The P-Value of the ChiSqResult_breast_tumorSize Test is: 0.6897938621853272\n"
          ]
        }
      ],
      "source": [
        "from scipy.stats import chi2_contingency\n",
        "\n",
        "# Cross tabulation \n",
        "Crosstab_class_irradiat=pd.crosstab(index=df['class'],columns=df['irradiat'])\n",
        "print(Crosstab_class_irradiat)\n",
        "\n",
        "Crosstab_class_breast=pd.crosstab(index=df['class'],columns=df['breast'])\n",
        "print(Crosstab_class_breast)\n",
        "\n",
        "Crosstab_class_tumorSize=pd.crosstab(index=df['class'],columns=df['tumor-size'])\n",
        "print(Crosstab_class_tumorSize)\n",
        "\n",
        "\n",
        "\n",
        "Crosstab_breast_tumorSize=pd.crosstab(index=df['breast'],columns=df['deg-malig'])\n",
        "print(Crosstab_breast_tumorSize)\n",
        "\n",
        "\n",
        "Crosstab_breast_quad=pd.crosstab(index=df['breast'],columns=df['breast-quad'])\n",
        "print(Crosstab_breast_quad)\n",
        "\n",
        "Crosstab_breast_nodeCap=pd.crosstab(index=df['breast'],columns=df['node-caps'])\n",
        "print(Crosstab_breast_nodeCap)\n",
        "\n",
        "\n",
        "# Performing Chi-sq test\n",
        "ChiSqResult_class_irradiat = chi2_contingency(Crosstab_class_irradiat)\n",
        "\n",
        "ChiSqResult_class_breast = chi2_contingency(Crosstab_class_breast)\n",
        "\n",
        "ChiSqResult_class_tumorSize = chi2_contingency(Crosstab_class_tumorSize)\n",
        "\n",
        "ChiSqResult_breast_tumorSize = chi2_contingency(Crosstab_breast_tumorSize)\n",
        "\n",
        "Crosstab_breast_nodeCap = chi2_contingency(Crosstab_breast_nodeCap)\n",
        " \n",
        "    \n",
        "    \n",
        "# P-Value is the Probability of H0 being True\n",
        "# If P-Value&gt;0.05 then only we Accept the assumption(H0)\n",
        " \n",
        "print('The P-Value of the ChiSqResult_class_irradiat Test is:', ChiSqResult_class_irradiat[1])\n",
        "\n",
        "print('The P-Value of the ChiSqResult_class_breast Test is:', ChiSqResult_class_breast[1])\n",
        "\n",
        "print('The P-Value of the ChiSqResult_class_tumorSize Test is:', ChiSqResult_class_tumorSize[1])\n",
        "\n",
        "print('The P-Value of the ChiSqResult_breast_tumorSize Test is:', ChiSqResult_breast_tumorSize[1])\n",
        "\n",
        "#print('The P-Value of the ChiSqResult_breast_quad Test is:', ChiSqResult_breast_quad[1])"
      ]
    },
    {
      "cell_type": "markdown",
      "id": "721831f5",
      "metadata": {
        "id": "721831f5"
      },
      "source": [
        "#### Conclusion,\n",
        "\n",
        "For Class and irradiat:\n",
        "    We failed to reject H0, the varible are not related to each other\n",
        "\n",
        "For Class and breast:\n",
        "    We reject H0, the varible are related to each other\n",
        "\n",
        "For Class and tumorsize:\n",
        "    We failed to reject H0, the varible are not related to each other\n",
        "    \n",
        "For Breast and tumorsize:\n",
        "    We reject H0, the varible are related to each other\n",
        "    \n",
        "For Breast and Breast Quad:\n",
        "    We reject H0, the varible are related to each other"
      ]
    },
    {
      "cell_type": "code",
      "execution_count": 1094,
      "id": "6f5ea43e",
      "metadata": {
        "id": "6f5ea43e",
        "outputId": "d5476820-a3fa-49ed-e0f0-a1066326b221",
        "colab": {
          "base_uri": "https://localhost:8080/"
        }
      },
      "outputs": [
        {
          "output_type": "stream",
          "name": "stdout",
          "text": [
            "<class 'pandas.core.frame.DataFrame'>\n",
            "Int64Index: 263 entries, 0 to 285\n",
            "Data columns (total 10 columns):\n",
            " #   Column       Non-Null Count  Dtype   \n",
            "---  ------       --------------  -----   \n",
            " 0   class        263 non-null    category\n",
            " 1   age          263 non-null    object  \n",
            " 2   menopause    263 non-null    category\n",
            " 3   tumor-size   263 non-null    object  \n",
            " 4   inv-nodes    263 non-null    object  \n",
            " 5   node-caps    263 non-null    category\n",
            " 6   deg-malig    263 non-null    category\n",
            " 7   breast       263 non-null    category\n",
            " 8   breast-quad  263 non-null    category\n",
            " 9   irradiat     263 non-null    category\n",
            "dtypes: category(7), object(3)\n",
            "memory usage: 19.1+ KB\n"
          ]
        }
      ],
      "source": [
        "df.info()"
      ]
    },
    {
      "cell_type": "code",
      "execution_count": 1095,
      "id": "74c4941f",
      "metadata": {
        "scrolled": true,
        "id": "74c4941f",
        "outputId": "36c2a5bf-7dd0-4989-f6f2-1936efa7f947",
        "colab": {
          "base_uri": "https://localhost:8080/",
          "height": 395
        }
      },
      "outputs": [
        {
          "output_type": "execute_result",
          "data": {
            "text/plain": [
              "<matplotlib.axes._subplots.AxesSubplot at 0x7fb37db9ec50>"
            ]
          },
          "metadata": {},
          "execution_count": 1095
        },
        {
          "output_type": "display_data",
          "data": {
            "text/plain": [
              "<Figure size 432x288 with 1 Axes>"
            ],
            "image/png": "[encoded data removed]"
          },
          "metadata": {
            "needs_background": "light"
          }
        }
      ],
      "source": [
        "%matplotlib inline\n",
        "pd.crosstab(df['class'],df['age']).plot(kind='bar')"
      ]
    },
    {
      "cell_type": "code",
      "execution_count": 1096,
      "id": "ad7f4715",
      "metadata": {
        "id": "ad7f4715",
        "outputId": "8506ce45-fabc-44bc-8d8b-b78b29502ac7",
        "colab": {
          "base_uri": "https://localhost:8080/",
          "height": 206
        }
      },
      "outputs": [
        {
          "output_type": "execute_result",
          "data": {
            "text/plain": [
              "                  class    age menopause tumor-size inv-nodes node-caps  \\\n",
              "0  no-recurrence-events  30-39   premeno      30-34       0-2        no   \n",
              "1  no-recurrence-events  40-49   premeno      20-24       0-2        no   \n",
              "2  no-recurrence-events  40-49   premeno      20-24       0-2        no   \n",
              "3  no-recurrence-events  60-69      ge40      15-19       0-2        no   \n",
              "4  no-recurrence-events  40-49   premeno        0-4       0-2        no   \n",
              "\n",
              "  deg-malig breast breast-quad irradiat  \n",
              "0         3   left    left_low       no  \n",
              "1         2  right    right_up       no  \n",
              "2         2   left    left_low       no  \n",
              "3         2  right     left_up       no  \n",
              "4         2  right   right_low       no  "
            ],
            "text/html": [
              "\n",
              "  <div id=\"df-2d4bec1d-84e9-4177-b009-eac1a8dfdda4\">\n",
              "    <div class=\"colab-df-container\">\n",
              "      <div>\n",
              "<style scoped>\n",
              "    .dataframe tbody tr th:only-of-type {\n",
              "        vertical-align: middle;\n",
              "    }\n",
              "\n",
              "    .dataframe tbody tr th {\n",
              "        vertical-align: top;\n",
              "    }\n",
              "\n",
              "    .dataframe thead th {\n",
              "        text-align: right;\n",
              "    }\n",
              "</style>\n",
              "<table border=\"1\" class=\"dataframe\">\n",
              "  <thead>\n",
              "    <tr style=\"text-align: right;\">\n",
              "      <th></th>\n",
              "      <th>class</th>\n",
              "      <th>age</th>\n",
              "      <th>menopause</th>\n",
              "      <th>tumor-size</th>\n",
              "      <th>inv-nodes</th>\n",
              "      <th>node-caps</th>\n",
              "      <th>deg-malig</th>\n",
              "      <th>breast</th>\n",
              "      <th>breast-quad</th>\n",
              "      <th>irradiat</th>\n",
              "    </tr>\n",
              "  </thead>\n",
              "  <tbody>\n",
              "    <tr>\n",
              "      <th>0</th>\n",
              "      <td>no-recurrence-events</td>\n",
              "      <td>30-39</td>\n",
              "      <td>premeno</td>\n",
              "      <td>30-34</td>\n",
              "      <td>0-2</td>\n",
              "      <td>no</td>\n",
              "      <td>3</td>\n",
              "      <td>left</td>\n",
              "      <td>left_low</td>\n",
              "      <td>no</td>\n",
              "    </tr>\n",
              "    <tr>\n",
              "      <th>1</th>\n",
              "      <td>no-recurrence-events</td>\n",
              "      <td>40-49</td>\n",
              "      <td>premeno</td>\n",
              "      <td>20-24</td>\n",
              "      <td>0-2</td>\n",
              "      <td>no</td>\n",
              "      <td>2</td>\n",
              "      <td>right</td>\n",
              "      <td>right_up</td>\n",
              "      <td>no</td>\n",
              "    </tr>\n",
              "    <tr>\n",
              "      <th>2</th>\n",
              "      <td>no-recurrence-events</td>\n",
              "      <td>40-49</td>\n",
              "      <td>premeno</td>\n",
              "      <td>20-24</td>\n",
              "      <td>0-2</td>\n",
              "      <td>no</td>\n",
              "      <td>2</td>\n",
              "      <td>left</td>\n",
              "      <td>left_low</td>\n",
              "      <td>no</td>\n",
              "    </tr>\n",
              "    <tr>\n",
              "      <th>3</th>\n",
              "      <td>no-recurrence-events</td>\n",
              "      <td>60-69</td>\n",
              "      <td>ge40</td>\n",
              "      <td>15-19</td>\n",
              "      <td>0-2</td>\n",
              "      <td>no</td>\n",
              "      <td>2</td>\n",
              "      <td>right</td>\n",
              "      <td>left_up</td>\n",
              "      <td>no</td>\n",
              "    </tr>\n",
              "    <tr>\n",
              "      <th>4</th>\n",
              "      <td>no-recurrence-events</td>\n",
              "      <td>40-49</td>\n",
              "      <td>premeno</td>\n",
              "      <td>0-4</td>\n",
              "      <td>0-2</td>\n",
              "      <td>no</td>\n",
              "      <td>2</td>\n",
              "      <td>right</td>\n",
              "      <td>right_low</td>\n",
              "      <td>no</td>\n",
              "    </tr>\n",
              "  </tbody>\n",
              "</table>\n",
              "</div>\n",
              "      <button class=\"colab-df-convert\" onclick=\"convertToInteractive('df-2d4bec1d-84e9-4177-b009-eac1a8dfdda4')\"\n",
              "              title=\"Convert this dataframe to an interactive table.\"\n",
              "              style=\"display:none;\">\n",
              "        \n",
              "  <svg xmlns=\"http://www.w3.org/2000/svg\" height=\"24px\"viewBox=\"0 0 24 24\"\n",
              "       width=\"24px\">\n",
              "    <path d=\"M0 0h24v24H0V0z\" fill=\"none\"/>\n",
              "    <path d=\"M18.56 5.44l.94 2.06.94-2.06 2.06-.94-2.06-.94-.94-2.06-.94 2.06-2.06.94zm-11 1L8.5 8.5l.94-2.06 2.06-.94-2.06-.94L8.5 2.5l-.94 2.06-2.06.94zm10 10l.94 2.06.94-2.06 2.06-.94-2.06-.94-.94-2.06-.94 2.06-2.06.94z\"/><path d=\"M17.41 7.96l-1.37-1.37c-.4-.4-.92-.59-1.43-.59-.52 0-1.04.2-1.43.59L10.3 9.45l-7.72 7.72c-.78.78-.78 2.05 0 2.83L4 21.41c.39.39.9.59 1.41.59.51 0 1.02-.2 1.41-.59l7.78-7.78 2.81-2.81c.8-.78.8-2.07 0-2.86zM5.41 20L4 18.59l7.72-7.72 1.47 1.35L5.41 20z\"/>\n",
              "  </svg>\n",
              "      </button>\n",
              "      \n",
              "  <style>\n",
              "    .colab-df-container {\n",
              "      display:flex;\n",
              "      flex-wrap:wrap;\n",
              "      gap: 12px;\n",
              "    }\n",
              "\n",
              "    .colab-df-convert {\n",
              "      background-color: #E8F0FE;\n",
              "      border: none;\n",
              "      border-radius: 50%;\n",
              "      cursor: pointer;\n",
              "      display: none;\n",
              "      fill: #1967D2;\n",
              "      height: 32px;\n",
              "      padding: 0 0 0 0;\n",
              "      width: 32px;\n",
              "    }\n",
              "\n",
              "    .colab-df-convert:hover {\n",
              "      background-color: #E2EBFA;\n",
              "      box-shadow: 0px 1px 2px rgba(60, 64, 67, 0.3), 0px 1px 3px 1px rgba(60, 64, 67, 0.15);\n",
              "      fill: #174EA6;\n",
              "    }\n",
              "\n",
              "    [theme=dark] .colab-df-convert {\n",
              "      background-color: #3B4455;\n",
              "      fill: #D2E3FC;\n",
              "    }\n",
              "\n",
              "    [theme=dark] .colab-df-convert:hover {\n",
              "      background-color: #434B5C;\n",
              "      box-shadow: 0px 1px 3px 1px rgba(0, 0, 0, 0.15);\n",
              "      filter: drop-shadow(0px 1px 2px rgba(0, 0, 0, 0.3));\n",
              "      fill: #FFFFFF;\n",
              "    }\n",
              "  </style>\n",
              "\n",
              "      <script>\n",
              "        const buttonEl =\n",
              "          document.querySelector('#df-2d4bec1d-84e9-4177-b009-eac1a8dfdda4 button.colab-df-convert');\n",
              "        buttonEl.style.display =\n",
              "          google.colab.kernel.accessAllowed ? 'block' : 'none';\n",
              "\n",
              "        async function convertToInteractive(key) {\n",
              "          const element = document.querySelector('#df-2d4bec1d-84e9-4177-b009-eac1a8dfdda4');\n",
              "          const dataTable =\n",
              "            await google.colab.kernel.invokeFunction('convertToInteractive',\n",
              "                                                     [key], {});\n",
              "          if (!dataTable) return;\n",
              "\n",
              "          const docLinkHtml = 'Like what you see? Visit the ' +\n",
              "            '<a target=\"_blank\" href=https://colab.research.google.com/notebooks/data_table.ipynb>data table notebook</a>'\n",
              "            + ' to learn more about interactive tables.';\n",
              "          element.innerHTML = '';\n",
              "          dataTable['output_type'] = 'display_data';\n",
              "          await google.colab.output.renderOutput(dataTable, element);\n",
              "          const docLink = document.createElement('div');\n",
              "          docLink.innerHTML = docLinkHtml;\n",
              "          element.appendChild(docLink);\n",
              "        }\n",
              "      </script>\n",
              "    </div>\n",
              "  </div>\n",
              "  "
            ]
          },
          "metadata": {},
          "execution_count": 1096
        }
      ],
      "source": [
        "df.head()"
      ]
    },
    {
      "cell_type": "code",
      "execution_count": 1097,
      "id": "de74b8c4",
      "metadata": {
        "scrolled": true,
        "id": "de74b8c4",
        "outputId": "e1cf2984-fa43-4664-c9ac-c229fa64cc65",
        "colab": {
          "base_uri": "https://localhost:8080/"
        }
      },
      "outputs": [
        {
          "output_type": "stream",
          "name": "stdout",
          "text": [
            "<class 'pandas.core.frame.DataFrame'>\n",
            "Int64Index: 263 entries, 0 to 285\n",
            "Data columns (total 10 columns):\n",
            " #   Column       Non-Null Count  Dtype   \n",
            "---  ------       --------------  -----   \n",
            " 0   class        263 non-null    category\n",
            " 1   age          263 non-null    object  \n",
            " 2   menopause    263 non-null    category\n",
            " 3   tumor-size   263 non-null    object  \n",
            " 4   inv-nodes    263 non-null    object  \n",
            " 5   node-caps    263 non-null    category\n",
            " 6   deg-malig    263 non-null    category\n",
            " 7   breast       263 non-null    category\n",
            " 8   breast-quad  263 non-null    category\n",
            " 9   irradiat     263 non-null    category\n",
            "dtypes: category(7), object(3)\n",
            "memory usage: 19.1+ KB\n"
          ]
        }
      ],
      "source": [
        "df.info()"
      ]
    },
    {
      "cell_type": "markdown",
      "id": "7f130082",
      "metadata": {
        "id": "7f130082"
      },
      "source": [
        "### Pre-Processing Of Varibles"
      ]
    },
    {
      "cell_type": "code",
      "execution_count": 1098,
      "id": "07556c8d",
      "metadata": {
        "id": "07556c8d"
      },
      "outputs": [],
      "source": [
        "X = df[['class', 'age', 'menopause', 'irradiat','deg-malig','breast-quad','node-caps']].values"
      ]
    },
    {
      "cell_type": "code",
      "execution_count": 1099,
      "id": "d6d09759",
      "metadata": {
        "scrolled": true,
        "id": "d6d09759",
        "outputId": "793340ea-d303-4a43-e3e5-3e4bdf01a7c5",
        "colab": {
          "base_uri": "https://localhost:8080/"
        }
      },
      "outputs": [
        {
          "output_type": "execute_result",
          "data": {
            "text/plain": [
              "array([['no-recurrence-events', '30-39', 'premeno', ..., 3, 'left_low',\n",
              "        'no'],\n",
              "       ['no-recurrence-events', '40-49', 'premeno', ..., 2, 'right_up',\n",
              "        'no'],\n",
              "       ['no-recurrence-events', '40-49', 'premeno', ..., 2, 'left_low',\n",
              "        'no'],\n",
              "       ...,\n",
              "       ['recurrence-events', '60-69', 'ge40', ..., 1, 'left_up', 'no'],\n",
              "       ['recurrence-events', '40-49', 'ge40', ..., 3, 'left_low', 'no'],\n",
              "       ['recurrence-events', '50-59', 'ge40', ..., 3, 'left_low', 'no']],\n",
              "      dtype=object)"
            ]
          },
          "metadata": {},
          "execution_count": 1099
        }
      ],
      "source": [
        "X"
      ]
    },
    {
      "cell_type": "code",
      "execution_count": 1100,
      "id": "137340e4",
      "metadata": {
        "scrolled": true,
        "id": "137340e4",
        "outputId": "9961cb84-f9e4-443c-cde1-2f5f3978f891",
        "colab": {
          "base_uri": "https://localhost:8080/"
        }
      },
      "outputs": [
        {
          "output_type": "execute_result",
          "data": {
            "text/plain": [
              "30-34    57\n",
              "25-29    48\n",
              "20-24    45\n",
              "10-14    26\n",
              "15-19    25\n",
              "40-44    21\n",
              "35-39    18\n",
              "0-4       8\n",
              "50-54     8\n",
              "5-9       4\n",
              "45-49     3\n",
              "Name: tumor-size, dtype: int64"
            ]
          },
          "metadata": {},
          "execution_count": 1100
        }
      ],
      "source": [
        "df['tumor-size'].value_counts()"
      ]
    },
    {
      "cell_type": "markdown",
      "id": "8c2f6dd4",
      "metadata": {
        "id": "8c2f6dd4"
      },
      "source": [
        "#### Pre Processing Categorical Features"
      ]
    },
    {
      "cell_type": "markdown",
      "id": "585954a0",
      "metadata": {
        "id": "585954a0"
      },
      "source": [
        "<ul>\n",
        "    <li> <b> X </b> as the <b> Feature Matrix </b></li>\n",
        "    <li> <b> y </b> as the <b> response vector </b> </li>\n",
        "</ul>\n"
      ]
    },
    {
      "cell_type": "code",
      "execution_count": 1101,
      "id": "c0f32d0c",
      "metadata": {
        "id": "c0f32d0c"
      },
      "outputs": [],
      "source": [
        "from sklearn import preprocessing"
      ]
    },
    {
      "cell_type": "code",
      "execution_count": 1102,
      "id": "af99065c",
      "metadata": {
        "id": "af99065c"
      },
      "outputs": [],
      "source": [
        "le_class = preprocessing.LabelEncoder()\n",
        "le_class.fit(['no-recurrence-events','recurrence-events'])\n",
        "X[:,0] = le_class.transform(X[:,0]) "
      ]
    },
    {
      "cell_type": "code",
      "execution_count": 1103,
      "id": "da270e38",
      "metadata": {
        "id": "da270e38",
        "outputId": "3768f7d5-a7cc-4cc4-a188-4a578b4a7f5e",
        "colab": {
          "base_uri": "https://localhost:8080/"
        }
      },
      "outputs": [
        {
          "output_type": "execute_result",
          "data": {
            "text/plain": [
              "array([0, 0, 0, 0, 0, 0, 0, 0, 0, 0, 0, 0, 0, 0, 0, 0, 0, 0, 0, 0, 0, 0,\n",
              "       0, 0, 0, 0, 0, 0, 0, 0, 0, 0, 0, 0, 0, 0, 0, 0, 0, 0, 0, 0, 0, 0,\n",
              "       0, 0, 0, 0, 0, 0, 0, 0, 0, 0, 0, 0, 0, 0, 0, 0, 0, 0, 0, 0, 0, 0,\n",
              "       0, 0, 0, 0, 0, 0, 0, 0, 0, 0, 0, 0, 0, 0, 0, 0, 0, 0, 0, 0, 0, 0,\n",
              "       0, 0, 0, 0, 0, 0, 0, 0, 0, 0, 0, 0, 0, 0, 0, 0, 0, 0, 0, 0, 0, 0,\n",
              "       0, 0, 0, 0, 0, 0, 0, 0, 0, 0, 0, 0, 0, 0, 0, 0, 0, 0, 0, 0, 0, 0,\n",
              "       0, 0, 0, 0, 0, 0, 0, 0, 0, 0, 0, 0, 0, 0, 0, 0, 0, 0, 0, 0, 0, 0,\n",
              "       0, 0, 0, 0, 0, 0, 0, 0, 0, 0, 0, 0, 0, 0, 0, 0, 0, 0, 0, 0, 0, 0,\n",
              "       0, 0, 0, 0, 0, 0, 0, 0, 0, 0, 1, 1, 1, 1, 1, 1, 1, 1, 1, 1, 1, 1,\n",
              "       1, 1, 1, 1, 1, 1, 1, 1, 1, 1, 1, 1, 1, 1, 1, 1, 1, 1, 1, 1, 1, 1,\n",
              "       1, 1, 1, 1, 1, 1, 1, 1, 1, 1, 1, 1, 1, 1, 1, 1, 1, 1, 1, 1, 1, 1,\n",
              "       1, 1, 1, 1, 1, 1, 1, 1, 1, 1, 1, 1, 1, 1, 1, 1, 1, 1, 1, 1, 1],\n",
              "      dtype=object)"
            ]
          },
          "metadata": {},
          "execution_count": 1103
        }
      ],
      "source": [
        "X[:,0] "
      ]
    },
    {
      "cell_type": "code",
      "execution_count": 1104,
      "id": "903cdb05",
      "metadata": {
        "id": "903cdb05"
      },
      "outputs": [],
      "source": [
        "# le_tumorSize = preprocessing.LabelEncoder()\n",
        "# le_tumorSize.fit(['30-34','25-29','20-24','10-14','15-19','40-44','35-39','0-4','50-54','5-9','45-49'])\n",
        "# X[:,7] = le_tumorSize.transform(X[:,7]) "
      ]
    },
    {
      "cell_type": "code",
      "execution_count": 1105,
      "id": "654f6e88",
      "metadata": {
        "scrolled": true,
        "id": "654f6e88"
      },
      "outputs": [],
      "source": [
        "le_age = preprocessing.LabelEncoder()\n",
        "le_age.fit(['40-49','50-59','60-69','70-79','20-29','30-39'])\n",
        "X[:,1] = le_age.transform(X[:,1]) "
      ]
    },
    {
      "cell_type": "code",
      "execution_count": 1106,
      "id": "44770159",
      "metadata": {
        "id": "44770159"
      },
      "outputs": [],
      "source": [
        "le_menopause = preprocessing.LabelEncoder()\n",
        "le_menopause.fit(['premeno','ge40','lt40'])\n",
        "X[:,2] = le_menopause.transform(X[:,2]) "
      ]
    },
    {
      "cell_type": "code",
      "execution_count": 1107,
      "id": "e830b12e",
      "metadata": {
        "id": "e830b12e"
      },
      "outputs": [],
      "source": [
        "le_irradiat = preprocessing.LabelEncoder()\n",
        "le_irradiat.fit(['yes','no'])\n",
        "X[:,3] = le_irradiat.transform(X[:,3]) "
      ]
    },
    {
      "cell_type": "code",
      "execution_count": 1108,
      "id": "59a01aac",
      "metadata": {
        "scrolled": true,
        "id": "59a01aac"
      },
      "outputs": [],
      "source": [
        "le_breast_quad = preprocessing.LabelEncoder()\n",
        "le_breast_quad.fit(['central', 'left_low', 'left_up', 'right_low', 'right_up'])\n",
        "X[:,5] = le_breast_quad.transform(X[:,5]) "
      ]
    },
    {
      "cell_type": "code",
      "execution_count": 1109,
      "id": "09602504",
      "metadata": {
        "id": "09602504"
      },
      "outputs": [],
      "source": [
        "le_nodeCap = preprocessing.LabelEncoder()\n",
        "le_nodeCap.fit(['yes','no'])\n",
        "X[:,6] = le_nodeCap.transform(X[:,6]) "
      ]
    },
    {
      "cell_type": "code",
      "execution_count": 1110,
      "id": "3d7c9a1e",
      "metadata": {
        "id": "3d7c9a1e"
      },
      "outputs": [],
      "source": [
        "le_deg = preprocessing.LabelEncoder()\n",
        "le_deg.fit([0,1,2,3])\n",
        "X[:,4] = le_deg.transform(X[:,4]) "
      ]
    },
    {
      "cell_type": "code",
      "execution_count": 1111,
      "id": "5b0d3fc3",
      "metadata": {
        "id": "5b0d3fc3",
        "outputId": "b11f6d96-bb0e-487e-e312-5675d8aa91e7",
        "colab": {
          "base_uri": "https://localhost:8080/"
        }
      },
      "outputs": [
        {
          "output_type": "execute_result",
          "data": {
            "text/plain": [
              "array([[0, 1, 2, 0, 3, 1, 0],\n",
              "       [0, 2, 2, 0, 2, 4, 0],\n",
              "       [0, 2, 2, 0, 2, 1, 0],\n",
              "       [0, 4, 0, 0, 2, 2, 0],\n",
              "       [0, 2, 2, 0, 2, 3, 0]], dtype=object)"
            ]
          },
          "metadata": {},
          "execution_count": 1111
        }
      ],
      "source": [
        "X[0:5]"
      ]
    },
    {
      "cell_type": "markdown",
      "id": "c4fa16ac",
      "metadata": {
        "id": "c4fa16ac"
      },
      "source": [
        "### Response Matrix"
      ]
    },
    {
      "cell_type": "code",
      "execution_count": 1112,
      "id": "6090ebe4",
      "metadata": {
        "scrolled": false,
        "id": "6090ebe4",
        "outputId": "c5cc7888-b930-4683-fd65-52bafd0769cb",
        "colab": {
          "base_uri": "https://localhost:8080/"
        }
      },
      "outputs": [
        {
          "output_type": "execute_result",
          "data": {
            "text/plain": [
              "0     left\n",
              "1    right\n",
              "2     left\n",
              "3    right\n",
              "4    right\n",
              "Name: breast, dtype: category\n",
              "Categories (2, object): ['left', 'right']"
            ]
          },
          "metadata": {},
          "execution_count": 1112
        }
      ],
      "source": [
        "y = df[\"breast\"]\n",
        "y[0:5]"
      ]
    },
    {
      "cell_type": "markdown",
      "id": "842f2494",
      "metadata": {
        "id": "842f2494"
      },
      "source": [
        "### Model 1: Decision Tree"
      ]
    },
    {
      "cell_type": "markdown",
      "id": "928b6c76",
      "metadata": {
        "id": "928b6c76"
      },
      "source": [
        "<hr>\n",
        "<div id=\"setting_up_tree\">\n",
        "    <h2>Setting up the Decision Tree</h2>\n",
        "    We will be using <b>train/test split</b> on our <b>decision tree</b>. Let's import <b>train_test_split</b> from <b>sklearn.cross_validation</b>.\n",
        "</div>"
      ]
    },
    {
      "cell_type": "code",
      "execution_count": 1113,
      "id": "333bfeff",
      "metadata": {
        "id": "333bfeff"
      },
      "outputs": [],
      "source": [
        "from sklearn.model_selection import train_test_split\n",
        "from sklearn.tree import DecisionTreeClassifier"
      ]
    },
    {
      "cell_type": "code",
      "execution_count": 1114,
      "id": "58ce0d18",
      "metadata": {
        "id": "58ce0d18"
      },
      "outputs": [],
      "source": [
        "X_trainset, X_testset, y_trainset, y_testset = train_test_split(X, y, test_size=0.3, random_state=3)"
      ]
    },
    {
      "cell_type": "code",
      "execution_count": 1115,
      "id": "aa1c1cb4",
      "metadata": {
        "id": "aa1c1cb4",
        "outputId": "daae486a-77e8-4dd6-9f72-edae6d06ebcc",
        "colab": {
          "base_uri": "https://localhost:8080/"
        }
      },
      "outputs": [
        {
          "output_type": "execute_result",
          "data": {
            "text/plain": [
              "DecisionTreeClassifier(criterion='entropy', max_depth=4)"
            ]
          },
          "metadata": {},
          "execution_count": 1115
        }
      ],
      "source": [
        "breastTress = DecisionTreeClassifier(criterion=\"entropy\", max_depth = 4)\n",
        "breastTress"
      ]
    },
    {
      "cell_type": "code",
      "execution_count": 1116,
      "id": "b436c04a",
      "metadata": {
        "id": "b436c04a",
        "outputId": "2b6fe04d-edee-4ccb-de6c-6d1b34b7325a",
        "colab": {
          "base_uri": "https://localhost:8080/"
        }
      },
      "outputs": [
        {
          "output_type": "execute_result",
          "data": {
            "text/plain": [
              "DecisionTreeClassifier(criterion='entropy', max_depth=4)"
            ]
          },
          "metadata": {},
          "execution_count": 1116
        }
      ],
      "source": [
        "breastTress.fit(X_trainset,y_trainset)"
      ]
    },
    {
      "cell_type": "markdown",
      "id": "6fab95e2",
      "metadata": {
        "id": "6fab95e2"
      },
      "source": [
        "### Prediction"
      ]
    },
    {
      "cell_type": "code",
      "execution_count": 1117,
      "id": "a26d2702",
      "metadata": {
        "id": "a26d2702"
      },
      "outputs": [],
      "source": [
        "predTree = breastTress.predict(X_testset)"
      ]
    },
    {
      "cell_type": "code",
      "execution_count": 1118,
      "id": "3e74bc00",
      "metadata": {
        "id": "3e74bc00",
        "outputId": "55195b09-aa1b-4ce3-b6be-93b019c7db98",
        "colab": {
          "base_uri": "https://localhost:8080/"
        }
      },
      "outputs": [
        {
          "output_type": "stream",
          "name": "stdout",
          "text": [
            "['right' 'left' 'right' 'left' 'right']\n"
          ]
        }
      ],
      "source": [
        "print (predTree [0:5])\n"
      ]
    },
    {
      "cell_type": "code",
      "execution_count": 1119,
      "id": "dcdf7744",
      "metadata": {
        "id": "dcdf7744",
        "outputId": "3f263fa4-c4d4-4f9d-81ec-79cd82393962",
        "colab": {
          "base_uri": "https://localhost:8080/"
        }
      },
      "outputs": [
        {
          "output_type": "stream",
          "name": "stdout",
          "text": [
            "282     left\n",
            "39      left\n",
            "149    right\n",
            "201     left\n",
            "106     left\n",
            "Name: breast, dtype: category\n",
            "Categories (2, object): ['left', 'right']\n"
          ]
        }
      ],
      "source": [
        "print (y_testset [0:5])"
      ]
    },
    {
      "cell_type": "code",
      "execution_count": 1120,
      "id": "7fa4daad",
      "metadata": {
        "id": "7fa4daad",
        "outputId": "8d3bc186-2ec4-47fe-e7ff-43e7e832982e",
        "colab": {
          "base_uri": "https://localhost:8080/"
        }
      },
      "outputs": [
        {
          "output_type": "stream",
          "name": "stdout",
          "text": [
            "DecisionTrees's Accuracy:  0.6582278481012658\n"
          ]
        }
      ],
      "source": [
        "from sklearn import metrics\n",
        "import matplotlib.pyplot as plt\n",
        "print(\"DecisionTrees's Accuracy: \", metrics.accuracy_score(y_testset, predTree))"
      ]
    },
    {
      "cell_type": "markdown",
      "id": "1722e152",
      "metadata": {
        "id": "1722e152"
      },
      "source": [
        "### Visulization of the Tree"
      ]
    },
    {
      "cell_type": "code",
      "execution_count": 1121,
      "id": "8aff470c",
      "metadata": {
        "scrolled": true,
        "id": "8aff470c",
        "outputId": "fd300f7d-5694-4a3e-9fd3-dcd574ca8128",
        "colab": {
          "base_uri": "https://localhost:8080/",
          "height": 54
        }
      },
      "outputs": [
        {
          "output_type": "display_data",
          "data": {
            "text/plain": [
              "<Figure size 1200x1200 with 1 Axes>"
            ],
            "image/png": "[encoded data removed]"
          },
          "metadata": {
            "needs_background": "light"
          }
        }
      ],
      "source": [
        "import sklearn.tree as tree\n",
        "from matplotlib.pyplot import figure\n",
        "\n",
        "figure(figsize=(15, 15), dpi=80)\n",
        "tree.plot_tree(breastTress)\n",
        "plt.show()"
      ]
    },
    {
      "cell_type": "markdown",
      "id": "35b8eb93",
      "metadata": {
        "id": "35b8eb93"
      },
      "source": [
        "### Model 2: Logistic  Regression"
      ]
    },
    {
      "cell_type": "code",
      "execution_count": 1122,
      "id": "b802ccc4",
      "metadata": {
        "id": "b802ccc4",
        "outputId": "b9d98af7-2d73-4703-a57c-a118e15b9732",
        "colab": {
          "base_uri": "https://localhost:8080/"
        }
      },
      "outputs": [
        {
          "output_type": "execute_result",
          "data": {
            "text/plain": [
              "array([[-0.64, -1.62,  0.91, -0.55,  1.28, -0.73, -0.51],\n",
              "       [-0.64, -0.63,  0.91, -0.55, -0.09,  1.99, -0.51],\n",
              "       [-0.64, -0.63,  0.91, -0.55, -0.09, -0.73, -0.51],\n",
              "       [-0.64,  1.35, -1.12, -0.55, -0.09,  0.18, -0.51],\n",
              "       [-0.64, -0.63,  0.91, -0.55, -0.09,  1.09, -0.51]])"
            ]
          },
          "metadata": {},
          "execution_count": 1122
        }
      ],
      "source": [
        "from sklearn import preprocessing\n",
        "X = preprocessing.StandardScaler().fit(X).transform(X)\n",
        "X[0:5]"
      ]
    },
    {
      "cell_type": "code",
      "execution_count": 1123,
      "id": "b5fba952",
      "metadata": {
        "id": "b5fba952",
        "outputId": "05bef51a-ebb5-401a-f8f7-3f5a74a57918",
        "colab": {
          "base_uri": "https://localhost:8080/"
        }
      },
      "outputs": [
        {
          "output_type": "stream",
          "name": "stdout",
          "text": [
            "Train set: (210, 7) (210,)\n",
            "Test set: (53, 7) (53,)\n"
          ]
        }
      ],
      "source": [
        "from sklearn.model_selection import train_test_split\n",
        "X_train, X_test, y_train, y_test = train_test_split( X, y, test_size=0.2, random_state=4)\n",
        "print ('Train set:', X_train.shape,  y_train.shape)\n",
        "print ('Test set:', X_test.shape,  y_test.shape)"
      ]
    },
    {
      "cell_type": "markdown",
      "id": "dc0036b3",
      "metadata": {
        "id": "dc0036b3"
      },
      "source": [
        "### Applying Logistic Regression Model with K Fold Cross Validation"
      ]
    },
    {
      "cell_type": "code",
      "execution_count": 1124,
      "id": "7dfda1ea",
      "metadata": {
        "id": "7dfda1ea",
        "outputId": "f10920f3-7798-433c-f463-8d9104ec4466",
        "colab": {
          "base_uri": "https://localhost:8080/"
        }
      },
      "outputs": [
        {
          "output_type": "stream",
          "name": "stdout",
          "text": [
            "Avg accuracy: 0.5092162554426706\n"
          ]
        }
      ],
      "source": [
        "k = 5\n",
        "kf = KFold(n_splits=k, random_state=None)\n",
        "model = LogisticRegression(solver= 'liblinear')\n",
        " \n",
        "result = cross_val_score(model , X, y, cv = kf)\n",
        " \n",
        "print(\"Avg accuracy: {}\".format(result.mean()))"
      ]
    },
    {
      "cell_type": "code",
      "execution_count": 1125,
      "id": "e052419e",
      "metadata": {
        "id": "e052419e",
        "outputId": "fbd48bf3-2898-4fc6-bcb1-6860db23b7cf",
        "colab": {
          "base_uri": "https://localhost:8080/",
          "height": 333
        }
      },
      "outputs": [
        {
          "output_type": "execute_result",
          "data": {
            "text/plain": [
              "(<Figure size 432x288 with 1 Axes>,\n",
              " <matplotlib.axes._subplots.AxesSubplot at 0x7fb37da4bb50>)"
            ]
          },
          "metadata": {},
          "execution_count": 1125
        },
        {
          "output_type": "display_data",
          "data": {
            "text/plain": [
              "<Figure size 432x288 with 0 Axes>"
            ]
          },
          "metadata": {}
        },
        {
          "output_type": "display_data",
          "data": {
            "text/plain": [
              "<Figure size 432x288 with 1 Axes>"
            ],
            "image/png": "[encoded data removed]"
          },
          "metadata": {
            "needs_background": "light"
          }
        }
      ],
      "source": [
        "# Compute confusion matrix\n",
        "cnf_matrix = confusion_matrix(y_test, yhat, labels=['left','right'])\n",
        "np.set_printoptions(precision=2)\n",
        "\n",
        "# Plot non-normalized confusion matrix\n",
        "plt.figure()\n",
        "plot_confusion_matrix(conf_mat=cnf_matrix)"
      ]
    },
    {
      "cell_type": "code",
      "execution_count": 1126,
      "id": "b2a556b2",
      "metadata": {
        "scrolled": true,
        "id": "b2a556b2",
        "outputId": "8d4615af-2f9b-4c01-f0bf-3d7ae7724753",
        "colab": {
          "base_uri": "https://localhost:8080/"
        }
      },
      "outputs": [
        {
          "output_type": "stream",
          "name": "stdout",
          "text": [
            "              precision    recall  f1-score   support\n",
            "\n",
            "        left       0.48      0.52      0.50        27\n",
            "       right       0.46      0.42      0.44        26\n",
            "\n",
            "    accuracy                           0.47        53\n",
            "   macro avg       0.47      0.47      0.47        53\n",
            "weighted avg       0.47      0.47      0.47        53\n",
            "\n"
          ]
        }
      ],
      "source": [
        "print (classification_report(y_test, yhat))"
      ]
    },
    {
      "cell_type": "markdown",
      "id": "f120ee61",
      "metadata": {
        "id": "f120ee61"
      },
      "source": [
        "*   **Precision** is a measure of the accuracy provided that a class label has been predicted. It is defined by: precision = TP / (TP + FP)\n",
        "\n",
        "*   **Recall** is the true positive rate. It is defined as: Recall =  TP / (TP + FN)"
      ]
    },
    {
      "cell_type": "markdown",
      "id": "22e75ba2",
      "metadata": {
        "id": "22e75ba2"
      },
      "source": [
        "### Model 3: KNN"
      ]
    },
    {
      "cell_type": "code",
      "execution_count": 1127,
      "id": "0f6c1216",
      "metadata": {
        "id": "0f6c1216",
        "outputId": "35f6366a-ee5f-40a4-94c8-0e63cc09dc40",
        "colab": {
          "base_uri": "https://localhost:8080/"
        }
      },
      "outputs": [
        {
          "output_type": "stream",
          "name": "stdout",
          "text": [
            "<class 'pandas.core.frame.DataFrame'>\n",
            "Int64Index: 263 entries, 0 to 285\n",
            "Data columns (total 10 columns):\n",
            " #   Column       Non-Null Count  Dtype   \n",
            "---  ------       --------------  -----   \n",
            " 0   class        263 non-null    category\n",
            " 1   age          263 non-null    object  \n",
            " 2   menopause    263 non-null    category\n",
            " 3   tumor-size   263 non-null    object  \n",
            " 4   inv-nodes    263 non-null    object  \n",
            " 5   node-caps    263 non-null    category\n",
            " 6   deg-malig    263 non-null    category\n",
            " 7   breast       263 non-null    category\n",
            " 8   breast-quad  263 non-null    category\n",
            " 9   irradiat     263 non-null    category\n",
            "dtypes: category(7), object(3)\n",
            "memory usage: 19.1+ KB\n"
          ]
        }
      ],
      "source": [
        "df.info()"
      ]
    },
    {
      "cell_type": "code",
      "execution_count": 1128,
      "id": "02f66bcb",
      "metadata": {
        "id": "02f66bcb",
        "colab": {
          "base_uri": "https://localhost:8080/"
        },
        "outputId": "17905c06-0f7d-4f34-ecb8-b58f85271950"
      },
      "outputs": [
        {
          "output_type": "execute_result",
          "data": {
            "text/plain": [
              "array([[-0.64, -1.62,  0.91, -0.55,  1.28, -0.73, -0.51],\n",
              "       [-0.64, -0.63,  0.91, -0.55, -0.09,  1.99, -0.51],\n",
              "       [-0.64, -0.63,  0.91, -0.55, -0.09, -0.73, -0.51],\n",
              "       [-0.64,  1.35, -1.12, -0.55, -0.09,  0.18, -0.51],\n",
              "       [-0.64, -0.63,  0.91, -0.55, -0.09,  1.09, -0.51]])"
            ]
          },
          "metadata": {},
          "execution_count": 1128
        }
      ],
      "source": [
        "X = preprocessing.StandardScaler().fit(X).transform(X.astype(float))\n",
        "X[0:5]"
      ]
    },
    {
      "cell_type": "code",
      "execution_count": 1129,
      "id": "24b479d1",
      "metadata": {
        "id": "24b479d1",
        "colab": {
          "base_uri": "https://localhost:8080/"
        },
        "outputId": "25676eb8-f260-49d2-be88-91bb1fb9f88a"
      },
      "outputs": [
        {
          "output_type": "stream",
          "name": "stdout",
          "text": [
            "Train set: (210, 7) (210,)\n",
            "Test set: (53, 7) (53,)\n"
          ]
        }
      ],
      "source": [
        "from sklearn.model_selection import train_test_split\n",
        "X_train, X_test, y_train, y_test = train_test_split( X, y, test_size=0.2, random_state=4)\n",
        "print ('Train set:', X_train.shape,  y_train.shape)\n",
        "print ('Test set:', X_test.shape,  y_test.shape)"
      ]
    },
    {
      "cell_type": "code",
      "execution_count": 1130,
      "id": "e52b2206",
      "metadata": {
        "id": "e52b2206"
      },
      "outputs": [],
      "source": [
        "from sklearn.neighbors import KNeighborsClassifier"
      ]
    },
    {
      "cell_type": "markdown",
      "id": "37918472",
      "metadata": {
        "id": "37918472"
      },
      "source": [
        "### Applying K fold cross validation"
      ]
    },
    {
      "cell_type": "code",
      "execution_count": 1131,
      "id": "da1a0b66",
      "metadata": {
        "id": "da1a0b66",
        "outputId": "c9166994-22ab-40ea-8a76-e66918cc3c3a",
        "colab": {
          "base_uri": "https://localhost:8080/"
        }
      },
      "outputs": [
        {
          "output_type": "execute_result",
          "data": {
            "text/plain": [
              "KNeighborsClassifier(n_neighbors=4)"
            ]
          },
          "metadata": {},
          "execution_count": 1131
        }
      ],
      "source": [
        "k = 4\n",
        "#Train Model and Predict  \n",
        "neigh = KNeighborsClassifier(n_neighbors = k).fit(X_train,y_train)\n",
        "neigh"
      ]
    },
    {
      "cell_type": "code",
      "execution_count": 1132,
      "id": "dc5c30ca",
      "metadata": {
        "id": "dc5c30ca",
        "outputId": "b5a3d259-3e98-4731-e9bf-9d40f383407d",
        "colab": {
          "base_uri": "https://localhost:8080/"
        }
      },
      "outputs": [
        {
          "output_type": "execute_result",
          "data": {
            "text/plain": [
              "array(['left', 'left', 'left', 'left', 'left'], dtype=object)"
            ]
          },
          "metadata": {},
          "execution_count": 1132
        }
      ],
      "source": [
        "yhat = neigh.predict(X_test)\n",
        "yhat[0:5]"
      ]
    },
    {
      "cell_type": "code",
      "execution_count": 1133,
      "id": "90939ed9",
      "metadata": {
        "id": "90939ed9",
        "outputId": "4ef43890-dad5-4baf-e24a-ca52bd2c8a1c",
        "colab": {
          "base_uri": "https://localhost:8080/"
        }
      },
      "outputs": [
        {
          "output_type": "execute_result",
          "data": {
            "text/plain": [
              "array([0.58, 0.57, 0.58, 0.51, 0.53, 0.51, 0.53, 0.47, 0.47])"
            ]
          },
          "metadata": {},
          "execution_count": 1133
        }
      ],
      "source": [
        "Ks = 10\n",
        "mean_acc = np.zeros((Ks-1))\n",
        "std_acc = np.zeros((Ks-1))\n",
        "\n",
        "for n in range(1,Ks):\n",
        "    \n",
        "    #Train Model and Predict  \n",
        "    neigh = KNeighborsClassifier(n_neighbors = n).fit(X_train,y_train)\n",
        "    yhat=neigh.predict(X_test)\n",
        "    mean_acc[n-1] = metrics.accuracy_score(y_test, yhat)\n",
        "\n",
        "    \n",
        "    std_acc[n-1]=np.std(yhat==y_test)/np.sqrt(yhat.shape[0])\n",
        "\n",
        "mean_acc"
      ]
    },
    {
      "cell_type": "code",
      "execution_count": 1134,
      "id": "e8080a81",
      "metadata": {
        "id": "e8080a81",
        "outputId": "28d34027-6765-4de9-a654-ea929566517c",
        "colab": {
          "base_uri": "https://localhost:8080/",
          "height": 297
        }
      },
      "outputs": [
        {
          "output_type": "display_data",
          "data": {
            "text/plain": [
              "<Figure size 432x288 with 1 Axes>"
            ],
            "image/png": "[encoded data removed]"
          },
          "metadata": {
            "needs_background": "light"
          }
        }
      ],
      "source": [
        "plt.plot(range(1,Ks),mean_acc,'g')\n",
        "plt.fill_between(range(1,Ks),mean_acc - 1 * std_acc,mean_acc + 1 * std_acc, alpha=0.10)\n",
        "plt.fill_between(range(1,Ks),mean_acc - 3 * std_acc,mean_acc + 3 * std_acc, alpha=0.10,color=\"green\")\n",
        "plt.legend(('Accuracy ', '+/- 1xstd','+/- 3xstd'))\n",
        "plt.ylabel('Accuracy ')\n",
        "plt.xlabel('Number of Neighbors (K)')\n",
        "plt.tight_layout()\n",
        "plt.show()"
      ]
    },
    {
      "cell_type": "code",
      "execution_count": 1135,
      "id": "2af235be",
      "metadata": {
        "id": "2af235be",
        "outputId": "4095e68c-6b23-45ff-c990-2eb8265dd340",
        "colab": {
          "base_uri": "https://localhost:8080/"
        }
      },
      "outputs": [
        {
          "output_type": "stream",
          "name": "stdout",
          "text": [
            "The best accuracy was with 0.5849056603773585 with k= 1\n"
          ]
        }
      ],
      "source": [
        "print( \"The best accuracy was with\", mean_acc.max(), \"with k=\", mean_acc.argmax()+1) "
      ]
    }
  ],
  "metadata": {
    "kernelspec": {
      "display_name": "Python 3 (ipykernel)",
      "language": "python",
      "name": "python3"
    },
    "language_info": {
      "codemirror_mode": {
        "name": "ipython",
        "version": 3
      },
      "file_extension": ".py",
      "mimetype": "text/x-python",
      "name": "python",
      "nbconvert_exporter": "python",
      "pygments_lexer": "ipython3",
      "version": "3.9.12"
    },
    "colab": {
      "name": "breast-cancer.ipynb",
      "provenance": [],
      "collapsed_sections": [
        "8c2f6dd4",
        "6fab95e2",
        "1722e152",
        "35b8eb93"
      ]
    }
  },
  "nbformat": 4,
  "nbformat_minor": 5
}